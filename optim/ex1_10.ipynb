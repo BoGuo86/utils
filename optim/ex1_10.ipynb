{
 "metadata": {
  "language_info": {
   "codemirror_mode": {
    "name": "ipython",
    "version": 3
   },
   "file_extension": ".py",
   "mimetype": "text/x-python",
   "name": "python",
   "nbconvert_exporter": "python",
   "pygments_lexer": "ipython3",
   "version": "3.7.7-final"
  },
  "orig_nbformat": 2,
  "kernelspec": {
   "name": "Python 3.7.7 64-bit (virtualenv)",
   "display_name": "Python 3.7.7 64-bit (virtualenv)",
   "metadata": {
    "interpreter": {
     "hash": "bd0568d8647bfe2c5b59c81f47863eb65b413eeef312764b5149d804a4a00697"
    }
   }
  }
 },
 "nbformat": 4,
 "nbformat_minor": 2,
 "cells": [
  {
   "source": [],
   "cell_type": "markdown",
   "metadata": {}
  },
  {
   "source": [
    "The inductor structure we will optimize look like the following:\n",
    "\n",
    "![UIcore_inductor.png](./img/UIcore_inductor.png \"UIcore_inductor.png\")"
   ],
   "cell_type": "markdown",
   "metadata": {}
  },
  {
   "source": [],
   "cell_type": "markdown",
   "metadata": {}
  },
  {
   "cell_type": "code",
   "execution_count": null,
   "metadata": {},
   "outputs": [],
   "source": []
  },
  {
   "cell_type": "code",
   "execution_count": null,
   "metadata": {},
   "outputs": [],
   "source": []
  },
  {
   "cell_type": "code",
   "execution_count": null,
   "metadata": {},
   "outputs": [],
   "source": []
  },
  {
   "cell_type": "code",
   "execution_count": null,
   "metadata": {},
   "outputs": [],
   "source": []
  },
  {
   "cell_type": "code",
   "execution_count": null,
   "metadata": {},
   "outputs": [],
   "source": []
  },
  {
   "cell_type": "code",
   "execution_count": null,
   "metadata": {},
   "outputs": [],
   "source": []
  },
  {
   "source": [],
   "cell_type": "markdown",
   "metadata": {}
  },
  {
   "cell_type": "code",
   "execution_count": 1,
   "metadata": {},
   "outputs": [
    {
     "output_type": "error",
     "ename": "SyntaxError",
     "evalue": "invalid syntax (&lt;ipython-input-1-948db35f04fc&gt;, line 1)",
     "traceback": [
      "\u001b[1;36m  File \u001b[1;32m&quot;&lt;ipython-input-1-948db35f04fc&gt;&quot;\u001b[1;36m, line \u001b[1;32m1\u001b[0m\n\u001b[1;33m    In (1.10-14) and (1.10-15), we will take e = 10−10. For our design, let us consider a ferrite material for the core with Bmx = 0:617 T and rmc = 4680 kg=m3, and consider copper for the wire with $rwc = 8890 kg/m3$ and Jmx = 7:5 A=mm2. We will take rated current to be 10 A and take the minimum inductance Lmn to be 1 mH. Finally, let us take the maximum allowed mass as Mmx = 1 kg and take the maximum allowed loss to be Pmx = 1 W\u001b[0m\n\u001b[1;37m                                      ^\u001b[0m\n\u001b[1;31mSyntaxError\u001b[0m\u001b[1;31m:\u001b[0m invalid syntax\n"
     ]
    }
   ],
   "source": []
  },
  {
   "cell_type": "code",
   "execution_count": null,
   "metadata": {},
   "outputs": [],
   "source": []
  }
 ]
}