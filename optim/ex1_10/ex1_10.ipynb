{
 "metadata": {
  "language_info": {
   "codemirror_mode": {
    "name": "ipython",
    "version": 3
   },
   "file_extension": ".py",
   "mimetype": "text/x-python",
   "name": "python",
   "nbconvert_exporter": "python",
   "pygments_lexer": "ipython3",
   "version": "3.7.8-final"
  },
  "orig_nbformat": 2,
  "kernelspec": {
   "name": "Python 3.7.8 64-bit ('base': conda)",
   "display_name": "Python 3.7.8 64-bit ('base': conda)",
   "metadata": {
    "interpreter": {
     "hash": "bd0568d8647bfe2c5b59c81f47863eb65b413eeef312764b5149d804a4a00697"
    }
   }
  }
 },
 "nbformat": 4,
 "nbformat_minor": 2,
 "cells": [
  {
   "source": [],
   "cell_type": "markdown",
   "metadata": {}
  },
  {
   "source": [
    "# Inductor volume/mass optimization based on genetic algorithm\n",
    "The inductor structure we will optimize look like the following UI-core and solid wire winding.\n",
    "\n",
    "![UIcore_inductor.png](./img/UIcore_inductor.png \"UIcore_inductor.png\")"
   ],
   "cell_type": "markdown",
   "metadata": {}
  },
  {
   "source": [],
   "cell_type": "markdown",
   "metadata": {}
  },
  {
   "source": [
    "The optimizer for this first version is not taking into account AC losses and thermal resistance (that can limit the max dissipable power)."
   ],
   "cell_type": "markdown",
   "metadata": {}
  },
  {
   "source": [
    "import sys\n",
    "import os\n",
    "\n",
    "sys.path.insert(0, os.path.abspath('.'))\n",
    "import eui_fit\n",
    "D=eui_fit.input_design_parameters()"
   ],
   "cell_type": "code",
   "metadata": {},
   "execution_count": 8,
   "outputs": []
  },
  {
   "cell_type": "code",
   "execution_count": 9,
   "metadata": {},
   "outputs": [
    {
     "output_type": "stream",
     "name": "stdout",
     "text": [
      "=====================================================================================\n",
      "n_gen |  n_eval |   cv (min)   |   cv (avg)   |  n_nds  |     eps      |  indicator  \n",
      "=====================================================================================\n",
      "    1 |     100 |  3.454923759 |  6.74176E+06 |       1 |            - |            -\n",
      "    2 |     200 |  0.000998313 |  2.90724E+01 |       1 |  3.156862191 |        ideal\n",
      "    3 |     300 |  0.000931871 |  8.029492506 |       1 |  0.443398412 |        ideal\n",
      "    4 |     400 |  0.000931871 |  3.866643072 |       1 |  0.00000E+00 |            f\n",
      "    5 |     500 |  0.000931871 |  1.074519286 |       1 |  0.00000E+00 |            f\n",
      "    6 |     600 |  0.000902206 |  0.138846675 |       1 |  0.298923255 |        ideal\n",
      "    7 |     700 |  0.000902206 |  0.000974993 |       1 |  0.00000E+00 |            f\n",
      "    8 |     800 |  0.000902206 |  0.000954646 |       1 |  0.00000E+00 |            f\n",
      "    9 |     900 |  0.000739611 |  0.000937617 |       1 |  0.270803028 |        ideal\n",
      "   10 |    1000 |  0.000702003 |  0.000919343 |       1 |  0.323581110 |        ideal\n",
      "   11 |    1100 |  0.000702003 |  0.000903588 |       1 |  0.00000E+00 |            f\n",
      "   12 |    1200 |  0.000478369 |  0.000866853 |       1 |  0.361813737 |        ideal\n",
      "   13 |    1300 |  0.000421975 |  0.000818023 |       1 |  0.175353157 |        ideal\n",
      "   14 |    1400 |  0.000389245 |  0.000742802 |       1 |  0.182173675 |        ideal\n",
      "   15 |    1500 |  0.000115428 |  0.000662475 |       1 |  0.265430758 |        ideal\n",
      "   16 |    1600 |  0.00000E+00 |  0.000556187 |       1 |  0.048583052 |        ideal\n",
      "   17 |    1700 |  0.00000E+00 |  0.000464028 |       2 |  1.000000000 |        ideal\n",
      "   18 |    1800 |  0.00000E+00 |  0.000361867 |       3 |  0.218830974 |        ideal\n",
      "   19 |    1900 |  0.00000E+00 |  0.000295463 |       4 |  0.652068436 |        ideal\n",
      "   20 |    2000 |  0.00000E+00 |  0.000214104 |       6 |  0.468397982 |        ideal\n",
      "   21 |    2100 |  0.00000E+00 |  0.000124815 |       7 |  0.161278566 |        ideal\n",
      "   22 |    2200 |  0.00000E+00 |  0.000060987 |       7 |  0.003016530 |        ideal\n",
      "   23 |    2300 |  0.00000E+00 |  0.000025245 |       9 |  0.051345018 |        ideal\n",
      "   24 |    2400 |  0.00000E+00 |  5.16835E-06 |      11 |  0.031853278 |        ideal\n",
      "   25 |    2500 |  0.00000E+00 |  0.00000E+00 |      16 |  0.126950342 |        ideal\n",
      "   26 |    2600 |  0.00000E+00 |  0.00000E+00 |      20 |  0.048948451 |        ideal\n",
      "   27 |    2700 |  0.00000E+00 |  0.00000E+00 |      23 |  0.005525948 |            f\n",
      "   28 |    2800 |  0.00000E+00 |  0.00000E+00 |      24 |  0.043167246 |        ideal\n",
      "   29 |    2900 |  0.00000E+00 |  0.00000E+00 |      22 |  0.138591920 |        ideal\n",
      "   30 |    3000 |  0.00000E+00 |  0.00000E+00 |      23 |  0.008652554 |            f\n",
      "   31 |    3100 |  0.00000E+00 |  0.00000E+00 |      23 |  0.060832927 |        ideal\n",
      "   32 |    3200 |  0.00000E+00 |  0.00000E+00 |      20 |  0.019236019 |            f\n",
      "   33 |    3300 |  0.00000E+00 |  0.00000E+00 |      29 |  0.034743736 |        nadir\n",
      "   34 |    3400 |  0.00000E+00 |  0.00000E+00 |      33 |  0.009545716 |            f\n",
      "   35 |    3500 |  0.00000E+00 |  0.00000E+00 |      35 |  0.017695772 |        ideal\n",
      "   36 |    3600 |  0.00000E+00 |  0.00000E+00 |      35 |  0.023887319 |        ideal\n",
      "   37 |    3700 |  0.00000E+00 |  0.00000E+00 |      45 |  0.047746506 |        nadir\n",
      "   38 |    3800 |  0.00000E+00 |  0.00000E+00 |      40 |  0.088751945 |        nadir\n",
      "   39 |    3900 |  0.00000E+00 |  0.00000E+00 |      43 |  0.013263171 |        ideal\n",
      "   40 |    4000 |  0.00000E+00 |  0.00000E+00 |      39 |  0.007491135 |        ideal\n",
      "   41 |    4100 |  0.00000E+00 |  0.00000E+00 |      39 |  0.020012271 |        ideal\n",
      "   42 |    4200 |  0.00000E+00 |  0.00000E+00 |      38 |  0.048255366 |        ideal\n",
      "   43 |    4300 |  0.00000E+00 |  0.00000E+00 |      40 |  0.015253199 |        ideal\n",
      "   44 |    4400 |  0.00000E+00 |  0.00000E+00 |      42 |  0.002956209 |            f\n",
      "   45 |    4500 |  0.00000E+00 |  0.00000E+00 |      44 |  0.004582484 |            f\n",
      "   46 |    4600 |  0.00000E+00 |  0.00000E+00 |      47 |  0.033654160 |        ideal\n",
      "   47 |    4700 |  0.00000E+00 |  0.00000E+00 |      45 |  0.003711747 |            f\n",
      "   48 |    4800 |  0.00000E+00 |  0.00000E+00 |      50 |  0.007060791 |        ideal\n",
      "   49 |    4900 |  0.00000E+00 |  0.00000E+00 |      57 |  0.002669165 |            f\n",
      "   50 |    5000 |  0.00000E+00 |  0.00000E+00 |      55 |  0.014265445 |        ideal\n",
      "   51 |    5100 |  0.00000E+00 |  0.00000E+00 |      63 |  0.002748202 |            f\n",
      "   52 |    5200 |  0.00000E+00 |  0.00000E+00 |      63 |  0.021090463 |        ideal\n",
      "   53 |    5300 |  0.00000E+00 |  0.00000E+00 |      69 |  0.001856623 |            f\n",
      "   54 |    5400 |  0.00000E+00 |  0.00000E+00 |      79 |  0.004621690 |        ideal\n",
      "   55 |    5500 |  0.00000E+00 |  0.00000E+00 |      87 |  0.007944092 |        ideal\n",
      "   56 |    5600 |  0.00000E+00 |  0.00000E+00 |      96 |  0.002254787 |            f\n",
      "   57 |    5700 |  0.00000E+00 |  0.00000E+00 |      97 |  0.001291876 |            f\n",
      "   58 |    5800 |  0.00000E+00 |  0.00000E+00 |     100 |  0.003840043 |        ideal\n",
      "   59 |    5900 |  0.00000E+00 |  0.00000E+00 |     100 |  0.001261762 |            f\n",
      "   60 |    6000 |  0.00000E+00 |  0.00000E+00 |     100 |  0.001496344 |            f\n",
      "   61 |    6100 |  0.00000E+00 |  0.00000E+00 |     100 |  0.001041670 |            f\n",
      "   62 |    6200 |  0.00000E+00 |  0.00000E+00 |     100 |  0.001677164 |            f\n",
      "   63 |    6300 |  0.00000E+00 |  0.00000E+00 |     100 |  0.014876438 |        ideal\n",
      "   64 |    6400 |  0.00000E+00 |  0.00000E+00 |     100 |  0.000795653 |            f\n",
      "   65 |    6500 |  0.00000E+00 |  0.00000E+00 |     100 |  0.001231823 |            f\n",
      "   66 |    6600 |  0.00000E+00 |  0.00000E+00 |      95 |  0.001310588 |            f\n",
      "   67 |    6700 |  0.00000E+00 |  0.00000E+00 |      81 |  0.019162827 |        ideal\n",
      "   68 |    6800 |  0.00000E+00 |  0.00000E+00 |      80 |  0.001594080 |            f\n",
      "   69 |    6900 |  0.00000E+00 |  0.00000E+00 |      78 |  0.001746561 |            f\n",
      "   70 |    7000 |  0.00000E+00 |  0.00000E+00 |      72 |  0.003239249 |            f\n",
      "   71 |    7100 |  0.00000E+00 |  0.00000E+00 |      74 |  0.002291777 |            f\n",
      "   72 |    7200 |  0.00000E+00 |  0.00000E+00 |      65 |  0.004363691 |            f\n",
      "   73 |    7300 |  0.00000E+00 |  0.00000E+00 |      63 |  0.057015877 |        ideal\n",
      "   74 |    7400 |  0.00000E+00 |  0.00000E+00 |      56 |  0.003949486 |            f\n",
      "   75 |    7500 |  0.00000E+00 |  0.00000E+00 |      57 |  0.004644393 |            f\n",
      "   76 |    7600 |  0.00000E+00 |  0.00000E+00 |      59 |  0.120936207 |        nadir\n",
      "   77 |    7700 |  0.00000E+00 |  0.00000E+00 |      59 |  0.004256316 |        ideal\n",
      "   78 |    7800 |  0.00000E+00 |  0.00000E+00 |      60 |  0.019759512 |        ideal\n",
      "   79 |    7900 |  0.00000E+00 |  0.00000E+00 |      63 |  0.003666800 |            f\n",
      "   80 |    8000 |  0.00000E+00 |  0.00000E+00 |      65 |  0.002531172 |            f\n",
      "   81 |    8100 |  0.00000E+00 |  0.00000E+00 |      76 |  0.009516329 |        ideal\n",
      "   82 |    8200 |  0.00000E+00 |  0.00000E+00 |      82 |  0.002727688 |            f\n",
      "   83 |    8300 |  0.00000E+00 |  0.00000E+00 |      87 |  0.001453720 |            f\n",
      "   84 |    8400 |  0.00000E+00 |  0.00000E+00 |      91 |  0.001676584 |            f\n",
      "   85 |    8500 |  0.00000E+00 |  0.00000E+00 |      97 |  0.000728313 |            f\n",
      "   86 |    8600 |  0.00000E+00 |  0.00000E+00 |     100 |  0.001167388 |            f\n",
      "   87 |    8700 |  0.00000E+00 |  0.00000E+00 |     100 |  0.001058818 |            f\n",
      "   88 |    8800 |  0.00000E+00 |  0.00000E+00 |     100 |  0.005547405 |        ideal\n",
      "   89 |    8900 |  0.00000E+00 |  0.00000E+00 |     100 |  0.011340169 |        nadir\n",
      "   90 |    9000 |  0.00000E+00 |  0.00000E+00 |     100 |  0.005330107 |        ideal\n",
      "   91 |    9100 |  0.00000E+00 |  0.00000E+00 |     100 |  0.000912172 |            f\n",
      "   92 |    9200 |  0.00000E+00 |  0.00000E+00 |     100 |  0.000865518 |            f\n",
      "   93 |    9300 |  0.00000E+00 |  0.00000E+00 |     100 |  0.000665915 |            f\n",
      "   94 |    9400 |  0.00000E+00 |  0.00000E+00 |     100 |  0.001175864 |            f\n",
      "   95 |    9500 |  0.00000E+00 |  0.00000E+00 |     100 |  0.000716951 |            f\n",
      "   96 |    9600 |  0.00000E+00 |  0.00000E+00 |     100 |  0.017575084 |        nadir\n",
      "   97 |    9700 |  0.00000E+00 |  0.00000E+00 |     100 |  0.000579501 |            f\n",
      "   98 |    9800 |  0.00000E+00 |  0.00000E+00 |     100 |  0.000854882 |            f\n",
      "   99 |    9900 |  0.00000E+00 |  0.00000E+00 |     100 |  0.000758139 |            f\n",
      "  100 |   10000 |  0.00000E+00 |  0.00000E+00 |     100 |  0.001075537 |            f\n"
     ]
    }
   ],
   "source": [
    "from bokeh.plotting import figure\n",
    "from bokeh.io import push_notebook, show, output_notebook\n",
    "from bokeh.layouts import row\n",
    "TOOLS = \"hover,pan,wheel_zoom,zoom_in,zoom_out,box_zoom,undo,redo,reset,tap,save,box_select,poly_select,lasso_select,\"\n",
    "\n",
    "res = eui_fit.eui_modesign()\n"
   ]
  },
  {
   "cell_type": "code",
   "execution_count": 10,
   "metadata": {},
   "outputs": [
    {
     "output_type": "display_data",
     "data": {
      "text/html": "\n    <div class=\"bk-root\">\n        <a href=\"https://bokeh.org\" target=\"_blank\" class=\"bk-logo bk-logo-small bk-logo-notebook\"></a>\n        <span id=\"1373\">Loading BokehJS ...</span>\n    </div>"
     },
     "metadata": {}
    },
    {
     "output_type": "display_data",
     "data": {
      "application/javascript": "\n(function(root) {\n  function now() {\n    return new Date();\n  }\n\n  var force = true;\n\n  if (typeof root._bokeh_onload_callbacks === \"undefined\" || force === true) {\n    root._bokeh_onload_callbacks = [];\n    root._bokeh_is_loading = undefined;\n  }\n\n  var JS_MIME_TYPE = 'application/javascript';\n  var HTML_MIME_TYPE = 'text/html';\n  var EXEC_MIME_TYPE = 'application/vnd.bokehjs_exec.v0+json';\n  var CLASS_NAME = 'output_bokeh rendered_html';\n\n  /**\n   * Render data to the DOM node\n   */\n  function render(props, node) {\n    var script = document.createElement(\"script\");\n    node.appendChild(script);\n  }\n\n  /**\n   * Handle when an output is cleared or removed\n   */\n  function handleClearOutput(event, handle) {\n    var cell = handle.cell;\n\n    var id = cell.output_area._bokeh_element_id;\n    var server_id = cell.output_area._bokeh_server_id;\n    // Clean up Bokeh references\n    if (id != null && id in Bokeh.index) {\n      Bokeh.index[id].model.document.clear();\n      delete Bokeh.index[id];\n    }\n\n    if (server_id !== undefined) {\n      // Clean up Bokeh references\n      var cmd = \"from bokeh.io.state import curstate; print(curstate().uuid_to_server['\" + server_id + \"'].get_sessions()[0].document.roots[0]._id)\";\n      cell.notebook.kernel.execute(cmd, {\n        iopub: {\n          output: function(msg) {\n            var id = msg.content.text.trim();\n            if (id in Bokeh.index) {\n              Bokeh.index[id].model.document.clear();\n              delete Bokeh.index[id];\n            }\n          }\n        }\n      });\n      // Destroy server and session\n      var cmd = \"import bokeh.io.notebook as ion; ion.destroy_server('\" + server_id + \"')\";\n      cell.notebook.kernel.execute(cmd);\n    }\n  }\n\n  /**\n   * Handle when a new output is added\n   */\n  function handleAddOutput(event, handle) {\n    var output_area = handle.output_area;\n    var output = handle.output;\n\n    // limit handleAddOutput to display_data with EXEC_MIME_TYPE content only\n    if ((output.output_type != \"display_data\") || (!output.data.hasOwnProperty(EXEC_MIME_TYPE))) {\n      return\n    }\n\n    var toinsert = output_area.element.find(\".\" + CLASS_NAME.split(' ')[0]);\n\n    if (output.metadata[EXEC_MIME_TYPE][\"id\"] !== undefined) {\n      toinsert[toinsert.length - 1].firstChild.textContent = output.data[JS_MIME_TYPE];\n      // store reference to embed id on output_area\n      output_area._bokeh_element_id = output.metadata[EXEC_MIME_TYPE][\"id\"];\n    }\n    if (output.metadata[EXEC_MIME_TYPE][\"server_id\"] !== undefined) {\n      var bk_div = document.createElement(\"div\");\n      bk_div.innerHTML = output.data[HTML_MIME_TYPE];\n      var script_attrs = bk_div.children[0].attributes;\n      for (var i = 0; i < script_attrs.length; i++) {\n        toinsert[toinsert.length - 1].firstChild.setAttribute(script_attrs[i].name, script_attrs[i].value);\n        toinsert[toinsert.length - 1].firstChild.textContent = bk_div.children[0].textContent\n      }\n      // store reference to server id on output_area\n      output_area._bokeh_server_id = output.metadata[EXEC_MIME_TYPE][\"server_id\"];\n    }\n  }\n\n  function register_renderer(events, OutputArea) {\n\n    function append_mime(data, metadata, element) {\n      // create a DOM node to render to\n      var toinsert = this.create_output_subarea(\n        metadata,\n        CLASS_NAME,\n        EXEC_MIME_TYPE\n      );\n      this.keyboard_manager.register_events(toinsert);\n      // Render to node\n      var props = {data: data, metadata: metadata[EXEC_MIME_TYPE]};\n      render(props, toinsert[toinsert.length - 1]);\n      element.append(toinsert);\n      return toinsert\n    }\n\n    /* Handle when an output is cleared or removed */\n    events.on('clear_output.CodeCell', handleClearOutput);\n    events.on('delete.Cell', handleClearOutput);\n\n    /* Handle when a new output is added */\n    events.on('output_added.OutputArea', handleAddOutput);\n\n    /**\n     * Register the mime type and append_mime function with output_area\n     */\n    OutputArea.prototype.register_mime_type(EXEC_MIME_TYPE, append_mime, {\n      /* Is output safe? */\n      safe: true,\n      /* Index of renderer in `output_area.display_order` */\n      index: 0\n    });\n  }\n\n  // register the mime type if in Jupyter Notebook environment and previously unregistered\n  if (root.Jupyter !== undefined) {\n    var events = require('base/js/events');\n    var OutputArea = require('notebook/js/outputarea').OutputArea;\n\n    if (OutputArea.prototype.mime_types().indexOf(EXEC_MIME_TYPE) == -1) {\n      register_renderer(events, OutputArea);\n    }\n  }\n\n  \n  if (typeof (root._bokeh_timeout) === \"undefined\" || force === true) {\n    root._bokeh_timeout = Date.now() + 5000;\n    root._bokeh_failed_load = false;\n  }\n\n  var NB_LOAD_WARNING = {'data': {'text/html':\n     \"<div style='background-color: #fdd'>\\n\"+\n     \"<p>\\n\"+\n     \"BokehJS does not appear to have successfully loaded. If loading BokehJS from CDN, this \\n\"+\n     \"may be due to a slow or bad network connection. Possible fixes:\\n\"+\n     \"</p>\\n\"+\n     \"<ul>\\n\"+\n     \"<li>re-rerun `output_notebook()` to attempt to load from CDN again, or</li>\\n\"+\n     \"<li>use INLINE resources instead, as so:</li>\\n\"+\n     \"</ul>\\n\"+\n     \"<code>\\n\"+\n     \"from bokeh.resources import INLINE\\n\"+\n     \"output_notebook(resources=INLINE)\\n\"+\n     \"</code>\\n\"+\n     \"</div>\"}};\n\n  function display_loaded() {\n    var el = document.getElementById(\"1373\");\n    if (el != null) {\n      el.textContent = \"BokehJS is loading...\";\n    }\n    if (root.Bokeh !== undefined) {\n      if (el != null) {\n        el.textContent = \"BokehJS \" + root.Bokeh.version + \" successfully loaded.\";\n      }\n    } else if (Date.now() < root._bokeh_timeout) {\n      setTimeout(display_loaded, 100)\n    }\n  }\n\n\n  function run_callbacks() {\n    try {\n      root._bokeh_onload_callbacks.forEach(function(callback) {\n        if (callback != null)\n          callback();\n      });\n    } finally {\n      delete root._bokeh_onload_callbacks\n    }\n    console.debug(\"Bokeh: all callbacks have finished\");\n  }\n\n  function load_libs(css_urls, js_urls, callback) {\n    if (css_urls == null) css_urls = [];\n    if (js_urls == null) js_urls = [];\n\n    root._bokeh_onload_callbacks.push(callback);\n    if (root._bokeh_is_loading > 0) {\n      console.debug(\"Bokeh: BokehJS is being loaded, scheduling callback at\", now());\n      return null;\n    }\n    if (js_urls == null || js_urls.length === 0) {\n      run_callbacks();\n      return null;\n    }\n    console.debug(\"Bokeh: BokehJS not loaded, scheduling load and callback at\", now());\n    root._bokeh_is_loading = css_urls.length + js_urls.length;\n\n    function on_load() {\n      root._bokeh_is_loading--;\n      if (root._bokeh_is_loading === 0) {\n        console.debug(\"Bokeh: all BokehJS libraries/stylesheets loaded\");\n        run_callbacks()\n      }\n    }\n\n    function on_error() {\n      console.error(\"failed to load \" + url);\n    }\n\n    for (var i = 0; i < css_urls.length; i++) {\n      var url = css_urls[i];\n      const element = document.createElement(\"link\");\n      element.onload = on_load;\n      element.onerror = on_error;\n      element.rel = \"stylesheet\";\n      element.type = \"text/css\";\n      element.href = url;\n      console.debug(\"Bokeh: injecting link tag for BokehJS stylesheet: \", url);\n      document.body.appendChild(element);\n    }\n\n    const hashes = {\"https://cdn.bokeh.org/bokeh/release/bokeh-2.2.1.min.js\": \"qkRvDQVAIfzsJo40iRBbxt6sttt0hv4lh74DG7OK4MCHv4C5oohXYoHUM5W11uqS\", \"https://cdn.bokeh.org/bokeh/release/bokeh-widgets-2.2.1.min.js\": \"Sb7Mr06a9TNlet/GEBeKaf5xH3eb6AlCzwjtU82wNPyDrnfoiVl26qnvlKjmcAd+\", \"https://cdn.bokeh.org/bokeh/release/bokeh-tables-2.2.1.min.js\": \"HaJ15vgfmcfRtB4c4YBOI4f1MUujukqInOWVqZJZZGK7Q+ivud0OKGSTn/Vm2iso\"};\n\n    for (var i = 0; i < js_urls.length; i++) {\n      var url = js_urls[i];\n      var element = document.createElement('script');\n      element.onload = on_load;\n      element.onerror = on_error;\n      element.async = false;\n      element.src = url;\n      if (url in hashes) {\n        element.crossOrigin = \"anonymous\";\n        element.integrity = \"sha384-\" + hashes[url];\n      }\n      console.debug(\"Bokeh: injecting script tag for BokehJS library: \", url);\n      document.head.appendChild(element);\n    }\n  };\n\n  function inject_raw_css(css) {\n    const element = document.createElement(\"style\");\n    element.appendChild(document.createTextNode(css));\n    document.body.appendChild(element);\n  }\n\n  \n  var js_urls = [\"https://cdn.bokeh.org/bokeh/release/bokeh-2.2.1.min.js\", \"https://cdn.bokeh.org/bokeh/release/bokeh-widgets-2.2.1.min.js\", \"https://cdn.bokeh.org/bokeh/release/bokeh-tables-2.2.1.min.js\"];\n  var css_urls = [];\n  \n\n  var inline_js = [\n    function(Bokeh) {\n      Bokeh.set_log_level(\"info\");\n    },\n    function(Bokeh) {\n    \n    \n    }\n  ];\n\n  function run_inline_js() {\n    \n    if (root.Bokeh !== undefined || force === true) {\n      \n    for (var i = 0; i < inline_js.length; i++) {\n      inline_js[i].call(root, root.Bokeh);\n    }\n    if (force === true) {\n        display_loaded();\n      }} else if (Date.now() < root._bokeh_timeout) {\n      setTimeout(run_inline_js, 100);\n    } else if (!root._bokeh_failed_load) {\n      console.log(\"Bokeh: BokehJS failed to load within specified timeout.\");\n      root._bokeh_failed_load = true;\n    } else if (force !== true) {\n      var cell = $(document.getElementById(\"1373\")).parents('.cell').data().cell;\n      cell.output_area.append_execute_result(NB_LOAD_WARNING)\n    }\n\n  }\n\n  if (root._bokeh_is_loading === 0) {\n    console.debug(\"Bokeh: BokehJS loaded, going straight to plotting\");\n    run_inline_js();\n  } else {\n    load_libs(css_urls, js_urls, function() {\n      console.debug(\"Bokeh: BokehJS plotting callback run at\", now());\n      run_inline_js();\n    });\n  }\n}(window));",
      "application/vnd.bokehjs_load.v0+json": "\n(function(root) {\n  function now() {\n    return new Date();\n  }\n\n  var force = true;\n\n  if (typeof root._bokeh_onload_callbacks === \"undefined\" || force === true) {\n    root._bokeh_onload_callbacks = [];\n    root._bokeh_is_loading = undefined;\n  }\n\n  \n\n  \n  if (typeof (root._bokeh_timeout) === \"undefined\" || force === true) {\n    root._bokeh_timeout = Date.now() + 5000;\n    root._bokeh_failed_load = false;\n  }\n\n  var NB_LOAD_WARNING = {'data': {'text/html':\n     \"<div style='background-color: #fdd'>\\n\"+\n     \"<p>\\n\"+\n     \"BokehJS does not appear to have successfully loaded. If loading BokehJS from CDN, this \\n\"+\n     \"may be due to a slow or bad network connection. Possible fixes:\\n\"+\n     \"</p>\\n\"+\n     \"<ul>\\n\"+\n     \"<li>re-rerun `output_notebook()` to attempt to load from CDN again, or</li>\\n\"+\n     \"<li>use INLINE resources instead, as so:</li>\\n\"+\n     \"</ul>\\n\"+\n     \"<code>\\n\"+\n     \"from bokeh.resources import INLINE\\n\"+\n     \"output_notebook(resources=INLINE)\\n\"+\n     \"</code>\\n\"+\n     \"</div>\"}};\n\n  function display_loaded() {\n    var el = document.getElementById(\"1373\");\n    if (el != null) {\n      el.textContent = \"BokehJS is loading...\";\n    }\n    if (root.Bokeh !== undefined) {\n      if (el != null) {\n        el.textContent = \"BokehJS \" + root.Bokeh.version + \" successfully loaded.\";\n      }\n    } else if (Date.now() < root._bokeh_timeout) {\n      setTimeout(display_loaded, 100)\n    }\n  }\n\n\n  function run_callbacks() {\n    try {\n      root._bokeh_onload_callbacks.forEach(function(callback) {\n        if (callback != null)\n          callback();\n      });\n    } finally {\n      delete root._bokeh_onload_callbacks\n    }\n    console.debug(\"Bokeh: all callbacks have finished\");\n  }\n\n  function load_libs(css_urls, js_urls, callback) {\n    if (css_urls == null) css_urls = [];\n    if (js_urls == null) js_urls = [];\n\n    root._bokeh_onload_callbacks.push(callback);\n    if (root._bokeh_is_loading > 0) {\n      console.debug(\"Bokeh: BokehJS is being loaded, scheduling callback at\", now());\n      return null;\n    }\n    if (js_urls == null || js_urls.length === 0) {\n      run_callbacks();\n      return null;\n    }\n    console.debug(\"Bokeh: BokehJS not loaded, scheduling load and callback at\", now());\n    root._bokeh_is_loading = css_urls.length + js_urls.length;\n\n    function on_load() {\n      root._bokeh_is_loading--;\n      if (root._bokeh_is_loading === 0) {\n        console.debug(\"Bokeh: all BokehJS libraries/stylesheets loaded\");\n        run_callbacks()\n      }\n    }\n\n    function on_error() {\n      console.error(\"failed to load \" + url);\n    }\n\n    for (var i = 0; i < css_urls.length; i++) {\n      var url = css_urls[i];\n      const element = document.createElement(\"link\");\n      element.onload = on_load;\n      element.onerror = on_error;\n      element.rel = \"stylesheet\";\n      element.type = \"text/css\";\n      element.href = url;\n      console.debug(\"Bokeh: injecting link tag for BokehJS stylesheet: \", url);\n      document.body.appendChild(element);\n    }\n\n    const hashes = {\"https://cdn.bokeh.org/bokeh/release/bokeh-2.2.1.min.js\": \"qkRvDQVAIfzsJo40iRBbxt6sttt0hv4lh74DG7OK4MCHv4C5oohXYoHUM5W11uqS\", \"https://cdn.bokeh.org/bokeh/release/bokeh-widgets-2.2.1.min.js\": \"Sb7Mr06a9TNlet/GEBeKaf5xH3eb6AlCzwjtU82wNPyDrnfoiVl26qnvlKjmcAd+\", \"https://cdn.bokeh.org/bokeh/release/bokeh-tables-2.2.1.min.js\": \"HaJ15vgfmcfRtB4c4YBOI4f1MUujukqInOWVqZJZZGK7Q+ivud0OKGSTn/Vm2iso\"};\n\n    for (var i = 0; i < js_urls.length; i++) {\n      var url = js_urls[i];\n      var element = document.createElement('script');\n      element.onload = on_load;\n      element.onerror = on_error;\n      element.async = false;\n      element.src = url;\n      if (url in hashes) {\n        element.crossOrigin = \"anonymous\";\n        element.integrity = \"sha384-\" + hashes[url];\n      }\n      console.debug(\"Bokeh: injecting script tag for BokehJS library: \", url);\n      document.head.appendChild(element);\n    }\n  };\n\n  function inject_raw_css(css) {\n    const element = document.createElement(\"style\");\n    element.appendChild(document.createTextNode(css));\n    document.body.appendChild(element);\n  }\n\n  \n  var js_urls = [\"https://cdn.bokeh.org/bokeh/release/bokeh-2.2.1.min.js\", \"https://cdn.bokeh.org/bokeh/release/bokeh-widgets-2.2.1.min.js\", \"https://cdn.bokeh.org/bokeh/release/bokeh-tables-2.2.1.min.js\"];\n  var css_urls = [];\n  \n\n  var inline_js = [\n    function(Bokeh) {\n      Bokeh.set_log_level(\"info\");\n    },\n    function(Bokeh) {\n    \n    \n    }\n  ];\n\n  function run_inline_js() {\n    \n    if (root.Bokeh !== undefined || force === true) {\n      \n    for (var i = 0; i < inline_js.length; i++) {\n      inline_js[i].call(root, root.Bokeh);\n    }\n    if (force === true) {\n        display_loaded();\n      }} else if (Date.now() < root._bokeh_timeout) {\n      setTimeout(run_inline_js, 100);\n    } else if (!root._bokeh_failed_load) {\n      console.log(\"Bokeh: BokehJS failed to load within specified timeout.\");\n      root._bokeh_failed_load = true;\n    } else if (force !== true) {\n      var cell = $(document.getElementById(\"1373\")).parents('.cell').data().cell;\n      cell.output_area.append_execute_result(NB_LOAD_WARNING)\n    }\n\n  }\n\n  if (root._bokeh_is_loading === 0) {\n    console.debug(\"Bokeh: BokehJS loaded, going straight to plotting\");\n    run_inline_js();\n  } else {\n    load_libs(css_urls, js_urls, function() {\n      console.debug(\"Bokeh: BokehJS plotting callback run at\", now());\n      run_inline_js();\n    });\n  }\n}(window));"
     },
     "metadata": {}
    }
   ],
   "source": [
    "output_notebook()"
   ]
  },
  {
   "cell_type": "code",
   "execution_count": 11,
   "metadata": {},
   "outputs": [
    {
     "output_type": "display_data",
     "data": {
      "text/html": "\n\n\n\n\n\n  <div class=\"bk-root\" id=\"c8b4c930-5ad6-4c61-a1b2-e154ff74c8be\" data-root-id=\"1374\"></div>\n"
     },
     "metadata": {}
    },
    {
     "output_type": "display_data",
     "data": {
      "application/javascript": "(function(root) {\n  function embed_document(root) {\n    \n  var docs_json = {\"61dff60c-1cfd-4194-af37-470df036ba94\":{\"roots\":{\"references\":[{\"attributes\":{\"below\":[{\"id\":\"1385\"}],\"center\":[{\"id\":\"1388\"},{\"id\":\"1392\"}],\"left\":[{\"id\":\"1389\"}],\"plot_height\":450,\"renderers\":[{\"id\":\"1429\"}],\"title\":{\"id\":\"1375\"},\"toolbar\":{\"id\":\"1411\"},\"x_range\":{\"id\":\"1377\"},\"x_scale\":{\"id\":\"1381\"},\"y_range\":{\"id\":\"1379\"},\"y_scale\":{\"id\":\"1383\"}},\"id\":\"1374\",\"subtype\":\"Figure\",\"type\":\"Plot\"},{\"attributes\":{},\"id\":\"1383\",\"type\":\"LinearScale\"},{\"attributes\":{},\"id\":\"1400\",\"type\":\"RedoTool\"},{\"attributes\":{\"overlay\":{\"id\":\"1409\"}},\"id\":\"1406\",\"type\":\"LassoSelectTool\"},{\"attributes\":{\"axis\":{\"id\":\"1389\"},\"dimension\":1,\"ticker\":null},\"id\":\"1392\",\"type\":\"Grid\"},{\"attributes\":{},\"id\":\"1394\",\"type\":\"PanTool\"},{\"attributes\":{\"overlay\":{\"id\":\"1410\"}},\"id\":\"1405\",\"type\":\"PolySelectTool\"},{\"attributes\":{\"axis\":{\"id\":\"1385\"},\"ticker\":null},\"id\":\"1388\",\"type\":\"Grid\"},{\"attributes\":{\"callback\":null},\"id\":\"1393\",\"type\":\"HoverTool\"},{\"attributes\":{\"overlay\":{\"id\":\"1408\"}},\"id\":\"1398\",\"type\":\"BoxZoomTool\"},{\"attributes\":{},\"id\":\"1401\",\"type\":\"ResetTool\"},{\"attributes\":{},\"id\":\"1458\",\"type\":\"Selection\"},{\"attributes\":{},\"id\":\"1403\",\"type\":\"SaveTool\"},{\"attributes\":{\"data_source\":{\"id\":\"1426\"},\"glyph\":{\"id\":\"1427\"},\"hover_glyph\":null,\"muted_glyph\":null,\"nonselection_glyph\":{\"id\":\"1428\"},\"selection_glyph\":null,\"view\":{\"id\":\"1430\"}},\"id\":\"1429\",\"type\":\"GlyphRenderer\"},{\"attributes\":{},\"id\":\"1396\",\"type\":\"ZoomInTool\"},{\"attributes\":{},\"id\":\"1379\",\"type\":\"DataRange1d\"},{\"attributes\":{},\"id\":\"1399\",\"type\":\"UndoTool\"},{\"attributes\":{\"callback\":null},\"id\":\"1402\",\"type\":\"TapTool\"},{\"attributes\":{\"data\":{\"x\":{\"__ndarray__\":\"VTLIISKh7z97e0337J7jP1dX1pel6uQ/2NS0ux3D5T9d4yKVb9jkP+YebBSuXuY/UoYABLoS6D/IAuoYs7fqP7q3XfzjNOg/93qn8I/+5T/+AbkkdF7sP46oSeJn/eM/gowjaz+H5D/8x5HsTdfpP+1NuHOOseg/ixBXq5mm5j+0CDd0Qp/mP98YDfJRiOg/Nj+3pXzH6z8Om/OzzkzvP53z2f9B7OM/nmZCEeAj6z9YlfGXh5DoP+Cfo8CB9uk/Chn9nbaA5T9W7ikX9JTqP3jYNhMxX+s/hOrhWKz97j8AI//PDRDpPz6+Qqe5Guo/6znOJPOK7z++QYsBcaHuPyIncw0EAes/C28kOXxP5j8NdoIaG3blP9expoDcNuU/6930JkMY5j/23yiXHEfnPxcDJVD0sec/5yWEN9Lu5j88XYM3JdHjPzc/EsGbJuQ/er+52AiU6T8+hNqJYk7kPyhpVmvZN+0/5IsBZ3lj6T/mgodQqCjsP7CuQXAzdOc/26mT8Enj5j8Q48oFIqvjPxBszpyWVu4/S9ka97ag5T/1xWHzOYzsP4uxJwNmkec/uJ32UC9q6T9blEu8wkXoP2gByT1Pyu4/AFxX80zE7D8WBOmAvf7sPy3EzIi1jOs/qUmfvATT4z9adSdAHcnkP5Cld2BpEew//rhCSeh25z/5QgXFrSjvP95NH7au9Ow/7OUYJqXD6T+q1KZbAxLuP6wDgOJS++Y/bv8PW5mZ7T92urs7VZPrP9hLByq54Oc/Hm784CZg6j9hAT26KqbkPwB0ndiatuQ/QYKF7xjj7T9K7rv6pC/pP7eliJhobe0/qDrTJHC46z+81RajcBnkP+sO9bDWse0/MCIQJiL45z+QAlMKov7lP6ymtUb0/OY/yuepj/Of7D8AUS7B1FvtP7PRRK8W5uM//lQV7bAl7j+FTgT+tEjkP5BiiPaete4/ulBc/Dxb5T/iOy8nckbuPxKNM8zCQuU/bgLohRPT7T++V8Rx04HqP5Niomwwrek/Amf2vk4N5D9ukqAgNxrpPy0Y+wztX+U/ZlWxAoNd5z8=\",\"dtype\":\"float64\",\"order\":\"little\",\"shape\":[100]},\"y\":{\"__ndarray__\":\"WAs9y4pd3D/uaCxGDzvvP9OoFqSWSus/l0b4013x6T9UYfaMSP/rP9BOZBTIROg/F+h34JC75T8jpMHOKvvhP1n5zDS1HuU/h9AOOetV6T+R2bdDqaPgP7Dp/bAWq+0/bWXRq8ev7D9/R4dllxnjP85bu7YfYuQ/HCGkUnTK5z+1FYuSWh/oP2EQpY8I9eQ/r0vYkxLg4D9r3qwlJ/PcP8H/ihEWSu4/fGQJHE7W4T8HPyfIYI/kP2rHhphax+I/t0ZVihQ36j+LFZOcD2HiP7RCgytKrOE/CAHzSFI+3T+2hv33a1/kP4Qs1rNVreI/wfhMu1t33D/A5SiDp//dP/pANIHO+eE/mqXV/2G66D+IQ3dVyafqP5matFQqG+s/lhi+Enb66D/L5tHq+vfmPzthd3ag+uU/l08yIxWL5z+HsUl+hdzuPzWExPHeMO0/+iqZLGm24z/RNIagf/TsP+f/M3kH+N8/NadGK1QT5D/g28pSstLgP9LspX7N2+Y/gmAJT3Wf5z8ePSpGFRjvP2wtd2RiJN4/Jtk5t+MZ6j+f5sg3GHHgP2vyo5aUOeY/PuZwWtTT4z+PzDEVKQTlP008c3yPkN0/5M9WsDRC4D95+uAPdQDgP3VLysUpo+E/sX7hriah7j+pYmlw4S/sP3UByBVy3eA/+oexTYla5j+i/CEBqxDdP7gMb6O9N+A/ysRRHBJm4z8pdn/JgqbeP5H2r68JDOc/EuMjYwte3z/Q1bESW13hP6lIvL+U9OU/fQGjWuOZ4j8zB3cOg4jsP+BWce5cZ+w/du0uWFvl3j/5GiyEgynkP4lILD9Sl98/FPK0bQI84T/obvt8tm/tP/8ELwLiMN8/axUIvvHN5T9Dk08c61XpP3kIU3XDCuc/MdGsw+td4D8vi9qWf7ffP/6OanDCYe4/bBvW71N53j8jOiBYNATtP2oa284Mr90/31YTD8ng6j9Ug8rJGkjeP6pNMSt8DOs/IJuBpzAA3z+lFii33HjiP1e5n+SQheM/xcJUXd2N7T8f2PSRDDHkPwbm1MqKxeo/rRABZind5j8=\",\"dtype\":\"float64\",\"order\":\"little\",\"shape\":[100]}},\"selected\":{\"id\":\"1458\"},\"selection_policy\":{\"id\":\"1459\"}},\"id\":\"1426\",\"type\":\"ColumnDataSource\"},{\"attributes\":{\"axis_label\":\"mass\",\"formatter\":{\"id\":\"1454\"},\"ticker\":{\"id\":\"1386\"}},\"id\":\"1385\",\"type\":\"LinearAxis\"},{\"attributes\":{\"source\":{\"id\":\"1426\"}},\"id\":\"1430\",\"type\":\"CDSView\"},{\"attributes\":{\"fill_color\":{\"value\":\"#1f77b4\"},\"line_color\":{\"value\":\"#1f77b4\"},\"x\":{\"field\":\"x\"},\"y\":{\"field\":\"y\"}},\"id\":\"1427\",\"type\":\"Scatter\"},{\"attributes\":{\"axis_label\":\"losses\",\"formatter\":{\"id\":\"1456\"},\"ticker\":{\"id\":\"1390\"}},\"id\":\"1389\",\"type\":\"LinearAxis\"},{\"attributes\":{},\"id\":\"1395\",\"type\":\"WheelZoomTool\"},{\"attributes\":{\"overlay\":{\"id\":\"1407\"}},\"id\":\"1404\",\"type\":\"BoxSelectTool\"},{\"attributes\":{\"fill_alpha\":0.5,\"fill_color\":\"lightgrey\",\"level\":\"overlay\",\"line_alpha\":1.0,\"line_color\":\"black\",\"line_dash\":[4,4],\"line_width\":2,\"xs_units\":\"screen\",\"ys_units\":\"screen\"},\"id\":\"1410\",\"type\":\"PolyAnnotation\"},{\"attributes\":{\"active_drag\":\"auto\",\"active_inspect\":\"auto\",\"active_multi\":null,\"active_scroll\":\"auto\",\"active_tap\":\"auto\",\"tools\":[{\"id\":\"1393\"},{\"id\":\"1394\"},{\"id\":\"1395\"},{\"id\":\"1396\"},{\"id\":\"1397\"},{\"id\":\"1398\"},{\"id\":\"1399\"},{\"id\":\"1400\"},{\"id\":\"1401\"},{\"id\":\"1402\"},{\"id\":\"1403\"},{\"id\":\"1404\"},{\"id\":\"1405\"},{\"id\":\"1406\"}]},\"id\":\"1411\",\"type\":\"Toolbar\"},{\"attributes\":{\"bottom_units\":\"screen\",\"fill_alpha\":0.5,\"fill_color\":\"lightgrey\",\"left_units\":\"screen\",\"level\":\"overlay\",\"line_alpha\":1.0,\"line_color\":\"black\",\"line_dash\":[4,4],\"line_width\":2,\"right_units\":\"screen\",\"top_units\":\"screen\"},\"id\":\"1407\",\"type\":\"BoxAnnotation\"},{\"attributes\":{},\"id\":\"1377\",\"type\":\"DataRange1d\"},{\"attributes\":{},\"id\":\"1454\",\"type\":\"BasicTickFormatter\"},{\"attributes\":{\"bottom_units\":\"screen\",\"fill_alpha\":0.5,\"fill_color\":\"lightgrey\",\"left_units\":\"screen\",\"level\":\"overlay\",\"line_alpha\":1.0,\"line_color\":\"black\",\"line_dash\":[4,4],\"line_width\":2,\"right_units\":\"screen\",\"top_units\":\"screen\"},\"id\":\"1408\",\"type\":\"BoxAnnotation\"},{\"attributes\":{\"fill_alpha\":0.5,\"fill_color\":\"lightgrey\",\"level\":\"overlay\",\"line_alpha\":1.0,\"line_color\":\"black\",\"line_dash\":[4,4],\"line_width\":2,\"xs_units\":\"screen\",\"ys_units\":\"screen\"},\"id\":\"1409\",\"type\":\"PolyAnnotation\"},{\"attributes\":{},\"id\":\"1381\",\"type\":\"LinearScale\"},{\"attributes\":{\"text\":\"inductor optimization\"},\"id\":\"1375\",\"type\":\"Title\"},{\"attributes\":{},\"id\":\"1456\",\"type\":\"BasicTickFormatter\"},{\"attributes\":{},\"id\":\"1397\",\"type\":\"ZoomOutTool\"},{\"attributes\":{},\"id\":\"1386\",\"type\":\"BasicTicker\"},{\"attributes\":{},\"id\":\"1390\",\"type\":\"BasicTicker\"},{\"attributes\":{},\"id\":\"1459\",\"type\":\"UnionRenderers\"},{\"attributes\":{\"fill_alpha\":{\"value\":0.1},\"fill_color\":{\"value\":\"#1f77b4\"},\"line_alpha\":{\"value\":0.1},\"line_color\":{\"value\":\"#1f77b4\"},\"x\":{\"field\":\"x\"},\"y\":{\"field\":\"y\"}},\"id\":\"1428\",\"type\":\"Scatter\"}],\"root_ids\":[\"1374\"]},\"title\":\"Bokeh Application\",\"version\":\"2.2.1\"}};\n  var render_items = [{\"docid\":\"61dff60c-1cfd-4194-af37-470df036ba94\",\"root_ids\":[\"1374\"],\"roots\":{\"1374\":\"c8b4c930-5ad6-4c61-a1b2-e154ff74c8be\"}}];\n  root.Bokeh.embed.embed_items_notebook(docs_json, render_items);\n\n  }\n  if (root.Bokeh !== undefined) {\n    embed_document(root);\n  } else {\n    var attempts = 0;\n    var timer = setInterval(function(root) {\n      if (root.Bokeh !== undefined) {\n        clearInterval(timer);\n        embed_document(root);\n      } else {\n        attempts++;\n        if (attempts > 100) {\n          clearInterval(timer);\n          console.log(\"Bokeh: ERROR: Unable to run BokehJS code because BokehJS library is missing\");\n        }\n      }\n    }, 10, root)\n  }\n})(window);",
      "application/vnd.bokehjs_exec.v0+json": ""
     },
     "metadata": {
      "application/vnd.bokehjs_exec.v0+json": {
       "id": "1374"
      }
     }
    }
   ],
   "source": [
    "p = figure(tools=TOOLS, plot_width=600, plot_height=450, title=\"inductor optimization\")\n",
    "p.scatter(x=res.F[:, 0], y=res.F[:, 1])\n",
    "p.xaxis.axis_label = 'mass'\n",
    "p.yaxis.axis_label = 'losses'\n",
    "show(p)"
   ]
  },
  {
   "cell_type": "code",
   "execution_count": 14,
   "metadata": {},
   "outputs": [
    {
     "output_type": "stream",
     "name": "stdout",
     "text": [
      "Design Data\nTurns = 24.43341153845907\nSlot depth (m) = 0.009382023441354399\nSlot width (m) = 0.031865290993184484\nCore width (m) = 0.019986673799973553\nCore length (m) = 0.033678283287733465\nAir gap (m) = 0.00025246647243814765\n \nDesign Metrics\nMass (kg) = 0.7666406371652349\nLoss at rated current (W) = 0.6549113088190205\n \nConstrained Quantities\nInductance (H) = 0.0010000802404038318\nFlux Density at Rated Current (T) = 0.6080793655495359\nCurrent Density Rated Current (A/m**2) = 1167539.7284950148\n"
     ]
    }
   ],
   "source": [
    "solutionNr=17 # solution index chosen from pareto curve\n",
    "eui_fit.print_design(res.X[solutionNr], eui_fit.input_design_parameters())"
   ]
  },
  {
   "cell_type": "code",
   "execution_count": null,
   "metadata": {},
   "outputs": [],
   "source": []
  },
  {
   "cell_type": "code",
   "execution_count": null,
   "metadata": {},
   "outputs": [],
   "source": []
  },
  {
   "source": [],
   "cell_type": "markdown",
   "metadata": {}
  },
  {
   "cell_type": "code",
   "execution_count": null,
   "metadata": {},
   "outputs": [],
   "source": []
  },
  {
   "cell_type": "code",
   "execution_count": null,
   "metadata": {},
   "outputs": [],
   "source": []
  }
 ]
}