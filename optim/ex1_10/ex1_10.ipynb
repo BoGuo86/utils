{
 "metadata": {
  "language_info": {
   "codemirror_mode": {
    "name": "ipython",
    "version": 3
   },
   "file_extension": ".py",
   "mimetype": "text/x-python",
   "name": "python",
   "nbconvert_exporter": "python",
   "pygments_lexer": "ipython3",
   "version": "3.7.8-final"
  },
  "orig_nbformat": 2,
  "kernelspec": {
   "name": "Python 3.7.8 64-bit ('base': conda)",
   "display_name": "Python 3.7.8 64-bit ('base': conda)",
   "metadata": {
    "interpreter": {
     "hash": "bd0568d8647bfe2c5b59c81f47863eb65b413eeef312764b5149d804a4a00697"
    }
   }
  }
 },
 "nbformat": 4,
 "nbformat_minor": 2,
 "cells": [
  {
   "source": [],
   "cell_type": "markdown",
   "metadata": {}
  },
  {
   "source": [
    "# Inductor volume/mass optimization based on genetic algorithm\n",
    "The inductor structure we will optimize look like the following UI-core and solid wire winding.\n",
    "\n",
    "![UIcore_inductor.png](./img/UIcore_inductor.png \"UIcore_inductor.png\")"
   ],
   "cell_type": "markdown",
   "metadata": {}
  },
  {
   "source": [],
   "cell_type": "markdown",
   "metadata": {}
  },
  {
   "source": [
    "The optimizer for this first version is not taking into account AC losses and thermal resistance (that can limit the max dissipable power)."
   ],
   "cell_type": "markdown",
   "metadata": {}
  },
  {
   "source": [
    "import sys\n",
    "import os\n",
    "\n",
    "sys.path.insert(0, os.path.abspath('.'))\n",
    "import eui_fit\n",
    "D=eui_fit.input_design_parameters()"
   ],
   "cell_type": "code",
   "metadata": {},
   "execution_count": 15,
   "outputs": []
  },
  {
   "cell_type": "code",
   "execution_count": 16,
   "metadata": {},
   "outputs": [
    {
     "output_type": "stream",
     "name": "stdout",
     "text": [
      "=====================================================================================\n",
      "n_gen |  n_eval |   cv (min)   |   cv (avg)   |  n_nds  |     eps      |  indicator  \n",
      "=====================================================================================\n",
      "    1 |     100 |  4.645734034 |  1.44659E+07 |       1 |            - |            -\n",
      "    2 |     200 |  1.469947297 |  3.43213E+01 |       1 |  3.740974607 |        ideal\n",
      "    3 |     300 |  0.000996224 |  1.41128E+01 |       1 |  0.977062053 |        ideal\n",
      "    4 |     400 |  0.000978547 |  6.292669636 |       1 |  0.687965865 |        ideal\n",
      "    5 |     500 |  0.000978547 |  2.756727835 |       1 |  0.00000E+00 |            f\n",
      "    6 |     600 |  0.000966776 |  0.647123209 |       1 |  0.423061973 |        ideal\n",
      "    7 |     700 |  0.000960660 |  0.028204582 |       1 |  0.321630482 |        ideal\n",
      "    8 |     800 |  0.000923993 |  0.000990777 |       1 |  0.126680385 |        ideal\n",
      "    9 |     900 |  0.000923993 |  0.000985123 |       1 |  0.00000E+00 |            f\n",
      "   10 |    1000 |  0.000791179 |  0.000974255 |       1 |  0.357152543 |        ideal\n",
      "   11 |    1100 |  0.000791179 |  0.000960471 |       1 |  0.00000E+00 |            f\n",
      "   12 |    1200 |  0.000609996 |  0.000940820 |       1 |  0.140293829 |        ideal\n",
      "   13 |    1300 |  0.000609996 |  0.000909969 |       1 |  0.00000E+00 |            f\n",
      "   14 |    1400 |  0.000565362 |  0.000862035 |       1 |  0.214418041 |        ideal\n",
      "   15 |    1500 |  0.000565362 |  0.000825749 |       1 |  0.00000E+00 |            f\n",
      "   16 |    1600 |  0.000551068 |  0.000770626 |       1 |  0.114422244 |        ideal\n",
      "   17 |    1700 |  0.000227597 |  0.000710625 |       1 |  0.427375402 |        ideal\n",
      "   18 |    1800 |  0.00000E+00 |  0.000644252 |       1 |  0.007998807 |        ideal\n",
      "   19 |    1900 |  0.00000E+00 |  0.000595325 |       1 |  0.00000E+00 |            f\n",
      "   20 |    2000 |  0.00000E+00 |  0.000512558 |       1 |  0.00000E+00 |            f\n",
      "   21 |    2100 |  0.00000E+00 |  0.000422212 |       1 |  0.00000E+00 |            f\n",
      "   22 |    2200 |  0.00000E+00 |  0.000339543 |       1 |  0.091040422 |        ideal\n",
      "   23 |    2300 |  0.00000E+00 |  0.000228660 |       2 |  1.000000000 |        ideal\n",
      "   24 |    2400 |  0.00000E+00 |  0.000149252 |       2 |  0.00000E+00 |            f\n",
      "   25 |    2500 |  0.00000E+00 |  0.000106057 |       5 |  0.341208784 |        ideal\n",
      "   26 |    2600 |  0.00000E+00 |  0.000071850 |       8 |  0.040815705 |            f\n",
      "   27 |    2700 |  0.00000E+00 |  0.000041760 |       8 |  0.228564180 |        ideal\n",
      "   28 |    2800 |  0.00000E+00 |  0.000021276 |      11 |  0.121958458 |        ideal\n",
      "   29 |    2900 |  0.00000E+00 |  5.76773E-06 |      12 |  0.110865422 |        ideal\n",
      "   30 |    3000 |  0.00000E+00 |  0.00000E+00 |      11 |  0.024786610 |            f\n",
      "   31 |    3100 |  0.00000E+00 |  0.00000E+00 |      12 |  0.051153638 |        ideal\n",
      "   32 |    3200 |  0.00000E+00 |  0.00000E+00 |      14 |  0.016942141 |            f\n",
      "   33 |    3300 |  0.00000E+00 |  0.00000E+00 |      21 |  0.109539051 |        ideal\n",
      "   34 |    3400 |  0.00000E+00 |  0.00000E+00 |      25 |  0.020687583 |        ideal\n",
      "   35 |    3500 |  0.00000E+00 |  0.00000E+00 |      33 |  0.008986218 |            f\n",
      "   36 |    3600 |  0.00000E+00 |  0.00000E+00 |      36 |  0.135067602 |        ideal\n",
      "   37 |    3700 |  0.00000E+00 |  0.00000E+00 |      38 |  0.065348594 |        ideal\n",
      "   38 |    3800 |  0.00000E+00 |  0.00000E+00 |      42 |  0.004849957 |            f\n",
      "   39 |    3900 |  0.00000E+00 |  0.00000E+00 |      52 |  0.015998580 |        ideal\n",
      "   40 |    4000 |  0.00000E+00 |  0.00000E+00 |      60 |  0.081846956 |        ideal\n",
      "   41 |    4100 |  0.00000E+00 |  0.00000E+00 |      67 |  0.003424769 |            f\n",
      "   42 |    4200 |  0.00000E+00 |  0.00000E+00 |      70 |  0.003024484 |        ideal\n",
      "   43 |    4300 |  0.00000E+00 |  0.00000E+00 |      71 |  0.008406973 |        ideal\n",
      "   44 |    4400 |  0.00000E+00 |  0.00000E+00 |      74 |  0.001565362 |            f\n",
      "   45 |    4500 |  0.00000E+00 |  0.00000E+00 |      75 |  0.001853278 |            f\n",
      "   46 |    4600 |  0.00000E+00 |  0.00000E+00 |      78 |  0.001831653 |            f\n",
      "   47 |    4700 |  0.00000E+00 |  0.00000E+00 |      88 |  0.009951431 |        ideal\n",
      "   48 |    4800 |  0.00000E+00 |  0.00000E+00 |      90 |  0.002233093 |            f\n",
      "   49 |    4900 |  0.00000E+00 |  0.00000E+00 |      97 |  0.008502978 |        ideal\n",
      "   50 |    5000 |  0.00000E+00 |  0.00000E+00 |     100 |  0.002054134 |            f\n",
      "   51 |    5100 |  0.00000E+00 |  0.00000E+00 |     100 |  0.000841957 |            f\n",
      "   52 |    5200 |  0.00000E+00 |  0.00000E+00 |     100 |  0.001213954 |            f\n",
      "   53 |    5300 |  0.00000E+00 |  0.00000E+00 |     100 |  0.013517718 |        nadir\n",
      "   54 |    5400 |  0.00000E+00 |  0.00000E+00 |     100 |  0.009247372 |        ideal\n",
      "   55 |    5500 |  0.00000E+00 |  0.00000E+00 |     100 |  0.001190328 |            f\n",
      "   56 |    5600 |  0.00000E+00 |  0.00000E+00 |     100 |  0.004150549 |        ideal\n",
      "   57 |    5700 |  0.00000E+00 |  0.00000E+00 |     100 |  0.013638980 |        nadir\n",
      "   58 |    5800 |  0.00000E+00 |  0.00000E+00 |     100 |  0.001281727 |            f\n",
      "   59 |    5900 |  0.00000E+00 |  0.00000E+00 |     100 |  0.001144068 |            f\n",
      "   60 |    6000 |  0.00000E+00 |  0.00000E+00 |     100 |  0.000922138 |            f\n",
      "   61 |    6100 |  0.00000E+00 |  0.00000E+00 |      93 |  0.001606108 |            f\n",
      "   62 |    6200 |  0.00000E+00 |  0.00000E+00 |      85 |  0.002281058 |            f\n",
      "   63 |    6300 |  0.00000E+00 |  0.00000E+00 |      85 |  0.026724230 |        ideal\n",
      "   64 |    6400 |  0.00000E+00 |  0.00000E+00 |      89 |  0.005880916 |        ideal\n",
      "   65 |    6500 |  0.00000E+00 |  0.00000E+00 |      79 |  0.003480174 |            f\n",
      "   66 |    6600 |  0.00000E+00 |  0.00000E+00 |      72 |  0.001834637 |            f\n",
      "   67 |    6700 |  0.00000E+00 |  0.00000E+00 |      79 |  0.002317388 |            f\n",
      "   68 |    6800 |  0.00000E+00 |  0.00000E+00 |      81 |  0.001895038 |            f\n",
      "   69 |    6900 |  0.00000E+00 |  0.00000E+00 |      74 |  0.015776558 |        ideal\n",
      "   70 |    7000 |  0.00000E+00 |  0.00000E+00 |      82 |  0.005531678 |        ideal\n",
      "   71 |    7100 |  0.00000E+00 |  0.00000E+00 |      81 |  0.024258295 |        ideal\n",
      "   72 |    7200 |  0.00000E+00 |  0.00000E+00 |      75 |  0.003046522 |            f\n",
      "   73 |    7300 |  0.00000E+00 |  0.00000E+00 |      81 |  0.001518145 |            f\n",
      "   74 |    7400 |  0.00000E+00 |  0.00000E+00 |      81 |  0.001977368 |            f\n",
      "   75 |    7500 |  0.00000E+00 |  0.00000E+00 |      90 |  0.012444670 |        ideal\n",
      "   76 |    7600 |  0.00000E+00 |  0.00000E+00 |      92 |  0.001399604 |            f\n",
      "   77 |    7700 |  0.00000E+00 |  0.00000E+00 |      85 |  0.002127778 |            f\n",
      "   78 |    7800 |  0.00000E+00 |  0.00000E+00 |      76 |  0.004968993 |        nadir\n",
      "   79 |    7900 |  0.00000E+00 |  0.00000E+00 |      65 |  0.002671684 |        ideal\n",
      "   80 |    8000 |  0.00000E+00 |  0.00000E+00 |      60 |  0.003400470 |            f\n",
      "   81 |    8100 |  0.00000E+00 |  0.00000E+00 |      59 |  0.002212684 |            f\n",
      "   82 |    8200 |  0.00000E+00 |  0.00000E+00 |      55 |  0.045539984 |        ideal\n",
      "   83 |    8300 |  0.00000E+00 |  0.00000E+00 |      60 |  0.004496054 |            f\n",
      "   84 |    8400 |  0.00000E+00 |  0.00000E+00 |      63 |  0.003088972 |            f\n",
      "   85 |    8500 |  0.00000E+00 |  0.00000E+00 |      76 |  0.001835416 |            f\n",
      "   86 |    8600 |  0.00000E+00 |  0.00000E+00 |      87 |  0.004887362 |        ideal\n",
      "   87 |    8700 |  0.00000E+00 |  0.00000E+00 |      97 |  0.009286548 |        ideal\n",
      "   88 |    8800 |  0.00000E+00 |  0.00000E+00 |     100 |  0.002042007 |            f\n",
      "   89 |    8900 |  0.00000E+00 |  0.00000E+00 |     100 |  0.001169060 |            f\n",
      "   90 |    9000 |  0.00000E+00 |  0.00000E+00 |     100 |  0.012485471 |        nadir\n",
      "   91 |    9100 |  0.00000E+00 |  0.00000E+00 |     100 |  0.001341642 |            f\n",
      "   92 |    9200 |  0.00000E+00 |  0.00000E+00 |     100 |  0.001776742 |            f\n",
      "   93 |    9300 |  0.00000E+00 |  0.00000E+00 |     100 |  0.004924805 |        ideal\n",
      "   94 |    9400 |  0.00000E+00 |  0.00000E+00 |     100 |  0.000800832 |            f\n",
      "   95 |    9500 |  0.00000E+00 |  0.00000E+00 |     100 |  0.004470379 |        ideal\n",
      "   96 |    9600 |  0.00000E+00 |  0.00000E+00 |     100 |  0.000859804 |            f\n",
      "   97 |    9700 |  0.00000E+00 |  0.00000E+00 |     100 |  0.001271131 |            f\n",
      "   98 |    9800 |  0.00000E+00 |  0.00000E+00 |     100 |  0.013768055 |        ideal\n",
      "   99 |    9900 |  0.00000E+00 |  0.00000E+00 |     100 |  0.000644238 |            f\n",
      "  100 |   10000 |  0.00000E+00 |  0.00000E+00 |     100 |  0.000898821 |            f\n"
     ]
    }
   ],
   "source": [
    "from bokeh.plotting import figure\n",
    "from bokeh.io import push_notebook, show, output_notebook\n",
    "from bokeh.layouts import row\n",
    "TOOLS = \"hover,pan,wheel_zoom,zoom_in,zoom_out,box_zoom,undo,redo,reset,tap,save,box_select,poly_select,lasso_select,\"\n",
    "\n",
    "res = eui_fit.eui_modesign()\n"
   ]
  },
  {
   "cell_type": "code",
   "execution_count": 17,
   "metadata": {},
   "outputs": [
    {
     "output_type": "display_data",
     "data": {
      "text/html": "\n    <div class=\"bk-root\">\n        <a href=\"https://bokeh.org\" target=\"_blank\" class=\"bk-logo bk-logo-small bk-logo-notebook\"></a>\n        <span id=\"1519\">Loading BokehJS ...</span>\n    </div>"
     },
     "metadata": {}
    },
    {
     "output_type": "display_data",
     "data": {
      "application/javascript": "\n(function(root) {\n  function now() {\n    return new Date();\n  }\n\n  var force = true;\n\n  if (typeof root._bokeh_onload_callbacks === \"undefined\" || force === true) {\n    root._bokeh_onload_callbacks = [];\n    root._bokeh_is_loading = undefined;\n  }\n\n  var JS_MIME_TYPE = 'application/javascript';\n  var HTML_MIME_TYPE = 'text/html';\n  var EXEC_MIME_TYPE = 'application/vnd.bokehjs_exec.v0+json';\n  var CLASS_NAME = 'output_bokeh rendered_html';\n\n  /**\n   * Render data to the DOM node\n   */\n  function render(props, node) {\n    var script = document.createElement(\"script\");\n    node.appendChild(script);\n  }\n\n  /**\n   * Handle when an output is cleared or removed\n   */\n  function handleClearOutput(event, handle) {\n    var cell = handle.cell;\n\n    var id = cell.output_area._bokeh_element_id;\n    var server_id = cell.output_area._bokeh_server_id;\n    // Clean up Bokeh references\n    if (id != null && id in Bokeh.index) {\n      Bokeh.index[id].model.document.clear();\n      delete Bokeh.index[id];\n    }\n\n    if (server_id !== undefined) {\n      // Clean up Bokeh references\n      var cmd = \"from bokeh.io.state import curstate; print(curstate().uuid_to_server['\" + server_id + \"'].get_sessions()[0].document.roots[0]._id)\";\n      cell.notebook.kernel.execute(cmd, {\n        iopub: {\n          output: function(msg) {\n            var id = msg.content.text.trim();\n            if (id in Bokeh.index) {\n              Bokeh.index[id].model.document.clear();\n              delete Bokeh.index[id];\n            }\n          }\n        }\n      });\n      // Destroy server and session\n      var cmd = \"import bokeh.io.notebook as ion; ion.destroy_server('\" + server_id + \"')\";\n      cell.notebook.kernel.execute(cmd);\n    }\n  }\n\n  /**\n   * Handle when a new output is added\n   */\n  function handleAddOutput(event, handle) {\n    var output_area = handle.output_area;\n    var output = handle.output;\n\n    // limit handleAddOutput to display_data with EXEC_MIME_TYPE content only\n    if ((output.output_type != \"display_data\") || (!output.data.hasOwnProperty(EXEC_MIME_TYPE))) {\n      return\n    }\n\n    var toinsert = output_area.element.find(\".\" + CLASS_NAME.split(' ')[0]);\n\n    if (output.metadata[EXEC_MIME_TYPE][\"id\"] !== undefined) {\n      toinsert[toinsert.length - 1].firstChild.textContent = output.data[JS_MIME_TYPE];\n      // store reference to embed id on output_area\n      output_area._bokeh_element_id = output.metadata[EXEC_MIME_TYPE][\"id\"];\n    }\n    if (output.metadata[EXEC_MIME_TYPE][\"server_id\"] !== undefined) {\n      var bk_div = document.createElement(\"div\");\n      bk_div.innerHTML = output.data[HTML_MIME_TYPE];\n      var script_attrs = bk_div.children[0].attributes;\n      for (var i = 0; i < script_attrs.length; i++) {\n        toinsert[toinsert.length - 1].firstChild.setAttribute(script_attrs[i].name, script_attrs[i].value);\n        toinsert[toinsert.length - 1].firstChild.textContent = bk_div.children[0].textContent\n      }\n      // store reference to server id on output_area\n      output_area._bokeh_server_id = output.metadata[EXEC_MIME_TYPE][\"server_id\"];\n    }\n  }\n\n  function register_renderer(events, OutputArea) {\n\n    function append_mime(data, metadata, element) {\n      // create a DOM node to render to\n      var toinsert = this.create_output_subarea(\n        metadata,\n        CLASS_NAME,\n        EXEC_MIME_TYPE\n      );\n      this.keyboard_manager.register_events(toinsert);\n      // Render to node\n      var props = {data: data, metadata: metadata[EXEC_MIME_TYPE]};\n      render(props, toinsert[toinsert.length - 1]);\n      element.append(toinsert);\n      return toinsert\n    }\n\n    /* Handle when an output is cleared or removed */\n    events.on('clear_output.CodeCell', handleClearOutput);\n    events.on('delete.Cell', handleClearOutput);\n\n    /* Handle when a new output is added */\n    events.on('output_added.OutputArea', handleAddOutput);\n\n    /**\n     * Register the mime type and append_mime function with output_area\n     */\n    OutputArea.prototype.register_mime_type(EXEC_MIME_TYPE, append_mime, {\n      /* Is output safe? */\n      safe: true,\n      /* Index of renderer in `output_area.display_order` */\n      index: 0\n    });\n  }\n\n  // register the mime type if in Jupyter Notebook environment and previously unregistered\n  if (root.Jupyter !== undefined) {\n    var events = require('base/js/events');\n    var OutputArea = require('notebook/js/outputarea').OutputArea;\n\n    if (OutputArea.prototype.mime_types().indexOf(EXEC_MIME_TYPE) == -1) {\n      register_renderer(events, OutputArea);\n    }\n  }\n\n  \n  if (typeof (root._bokeh_timeout) === \"undefined\" || force === true) {\n    root._bokeh_timeout = Date.now() + 5000;\n    root._bokeh_failed_load = false;\n  }\n\n  var NB_LOAD_WARNING = {'data': {'text/html':\n     \"<div style='background-color: #fdd'>\\n\"+\n     \"<p>\\n\"+\n     \"BokehJS does not appear to have successfully loaded. If loading BokehJS from CDN, this \\n\"+\n     \"may be due to a slow or bad network connection. Possible fixes:\\n\"+\n     \"</p>\\n\"+\n     \"<ul>\\n\"+\n     \"<li>re-rerun `output_notebook()` to attempt to load from CDN again, or</li>\\n\"+\n     \"<li>use INLINE resources instead, as so:</li>\\n\"+\n     \"</ul>\\n\"+\n     \"<code>\\n\"+\n     \"from bokeh.resources import INLINE\\n\"+\n     \"output_notebook(resources=INLINE)\\n\"+\n     \"</code>\\n\"+\n     \"</div>\"}};\n\n  function display_loaded() {\n    var el = document.getElementById(\"1519\");\n    if (el != null) {\n      el.textContent = \"BokehJS is loading...\";\n    }\n    if (root.Bokeh !== undefined) {\n      if (el != null) {\n        el.textContent = \"BokehJS \" + root.Bokeh.version + \" successfully loaded.\";\n      }\n    } else if (Date.now() < root._bokeh_timeout) {\n      setTimeout(display_loaded, 100)\n    }\n  }\n\n\n  function run_callbacks() {\n    try {\n      root._bokeh_onload_callbacks.forEach(function(callback) {\n        if (callback != null)\n          callback();\n      });\n    } finally {\n      delete root._bokeh_onload_callbacks\n    }\n    console.debug(\"Bokeh: all callbacks have finished\");\n  }\n\n  function load_libs(css_urls, js_urls, callback) {\n    if (css_urls == null) css_urls = [];\n    if (js_urls == null) js_urls = [];\n\n    root._bokeh_onload_callbacks.push(callback);\n    if (root._bokeh_is_loading > 0) {\n      console.debug(\"Bokeh: BokehJS is being loaded, scheduling callback at\", now());\n      return null;\n    }\n    if (js_urls == null || js_urls.length === 0) {\n      run_callbacks();\n      return null;\n    }\n    console.debug(\"Bokeh: BokehJS not loaded, scheduling load and callback at\", now());\n    root._bokeh_is_loading = css_urls.length + js_urls.length;\n\n    function on_load() {\n      root._bokeh_is_loading--;\n      if (root._bokeh_is_loading === 0) {\n        console.debug(\"Bokeh: all BokehJS libraries/stylesheets loaded\");\n        run_callbacks()\n      }\n    }\n\n    function on_error() {\n      console.error(\"failed to load \" + url);\n    }\n\n    for (var i = 0; i < css_urls.length; i++) {\n      var url = css_urls[i];\n      const element = document.createElement(\"link\");\n      element.onload = on_load;\n      element.onerror = on_error;\n      element.rel = \"stylesheet\";\n      element.type = \"text/css\";\n      element.href = url;\n      console.debug(\"Bokeh: injecting link tag for BokehJS stylesheet: \", url);\n      document.body.appendChild(element);\n    }\n\n    const hashes = {\"https://cdn.bokeh.org/bokeh/release/bokeh-2.2.1.min.js\": \"qkRvDQVAIfzsJo40iRBbxt6sttt0hv4lh74DG7OK4MCHv4C5oohXYoHUM5W11uqS\", \"https://cdn.bokeh.org/bokeh/release/bokeh-widgets-2.2.1.min.js\": \"Sb7Mr06a9TNlet/GEBeKaf5xH3eb6AlCzwjtU82wNPyDrnfoiVl26qnvlKjmcAd+\", \"https://cdn.bokeh.org/bokeh/release/bokeh-tables-2.2.1.min.js\": \"HaJ15vgfmcfRtB4c4YBOI4f1MUujukqInOWVqZJZZGK7Q+ivud0OKGSTn/Vm2iso\"};\n\n    for (var i = 0; i < js_urls.length; i++) {\n      var url = js_urls[i];\n      var element = document.createElement('script');\n      element.onload = on_load;\n      element.onerror = on_error;\n      element.async = false;\n      element.src = url;\n      if (url in hashes) {\n        element.crossOrigin = \"anonymous\";\n        element.integrity = \"sha384-\" + hashes[url];\n      }\n      console.debug(\"Bokeh: injecting script tag for BokehJS library: \", url);\n      document.head.appendChild(element);\n    }\n  };\n\n  function inject_raw_css(css) {\n    const element = document.createElement(\"style\");\n    element.appendChild(document.createTextNode(css));\n    document.body.appendChild(element);\n  }\n\n  \n  var js_urls = [\"https://cdn.bokeh.org/bokeh/release/bokeh-2.2.1.min.js\", \"https://cdn.bokeh.org/bokeh/release/bokeh-widgets-2.2.1.min.js\", \"https://cdn.bokeh.org/bokeh/release/bokeh-tables-2.2.1.min.js\"];\n  var css_urls = [];\n  \n\n  var inline_js = [\n    function(Bokeh) {\n      Bokeh.set_log_level(\"info\");\n    },\n    function(Bokeh) {\n    \n    \n    }\n  ];\n\n  function run_inline_js() {\n    \n    if (root.Bokeh !== undefined || force === true) {\n      \n    for (var i = 0; i < inline_js.length; i++) {\n      inline_js[i].call(root, root.Bokeh);\n    }\n    if (force === true) {\n        display_loaded();\n      }} else if (Date.now() < root._bokeh_timeout) {\n      setTimeout(run_inline_js, 100);\n    } else if (!root._bokeh_failed_load) {\n      console.log(\"Bokeh: BokehJS failed to load within specified timeout.\");\n      root._bokeh_failed_load = true;\n    } else if (force !== true) {\n      var cell = $(document.getElementById(\"1519\")).parents('.cell').data().cell;\n      cell.output_area.append_execute_result(NB_LOAD_WARNING)\n    }\n\n  }\n\n  if (root._bokeh_is_loading === 0) {\n    console.debug(\"Bokeh: BokehJS loaded, going straight to plotting\");\n    run_inline_js();\n  } else {\n    load_libs(css_urls, js_urls, function() {\n      console.debug(\"Bokeh: BokehJS plotting callback run at\", now());\n      run_inline_js();\n    });\n  }\n}(window));",
      "application/vnd.bokehjs_load.v0+json": "\n(function(root) {\n  function now() {\n    return new Date();\n  }\n\n  var force = true;\n\n  if (typeof root._bokeh_onload_callbacks === \"undefined\" || force === true) {\n    root._bokeh_onload_callbacks = [];\n    root._bokeh_is_loading = undefined;\n  }\n\n  \n\n  \n  if (typeof (root._bokeh_timeout) === \"undefined\" || force === true) {\n    root._bokeh_timeout = Date.now() + 5000;\n    root._bokeh_failed_load = false;\n  }\n\n  var NB_LOAD_WARNING = {'data': {'text/html':\n     \"<div style='background-color: #fdd'>\\n\"+\n     \"<p>\\n\"+\n     \"BokehJS does not appear to have successfully loaded. If loading BokehJS from CDN, this \\n\"+\n     \"may be due to a slow or bad network connection. Possible fixes:\\n\"+\n     \"</p>\\n\"+\n     \"<ul>\\n\"+\n     \"<li>re-rerun `output_notebook()` to attempt to load from CDN again, or</li>\\n\"+\n     \"<li>use INLINE resources instead, as so:</li>\\n\"+\n     \"</ul>\\n\"+\n     \"<code>\\n\"+\n     \"from bokeh.resources import INLINE\\n\"+\n     \"output_notebook(resources=INLINE)\\n\"+\n     \"</code>\\n\"+\n     \"</div>\"}};\n\n  function display_loaded() {\n    var el = document.getElementById(\"1519\");\n    if (el != null) {\n      el.textContent = \"BokehJS is loading...\";\n    }\n    if (root.Bokeh !== undefined) {\n      if (el != null) {\n        el.textContent = \"BokehJS \" + root.Bokeh.version + \" successfully loaded.\";\n      }\n    } else if (Date.now() < root._bokeh_timeout) {\n      setTimeout(display_loaded, 100)\n    }\n  }\n\n\n  function run_callbacks() {\n    try {\n      root._bokeh_onload_callbacks.forEach(function(callback) {\n        if (callback != null)\n          callback();\n      });\n    } finally {\n      delete root._bokeh_onload_callbacks\n    }\n    console.debug(\"Bokeh: all callbacks have finished\");\n  }\n\n  function load_libs(css_urls, js_urls, callback) {\n    if (css_urls == null) css_urls = [];\n    if (js_urls == null) js_urls = [];\n\n    root._bokeh_onload_callbacks.push(callback);\n    if (root._bokeh_is_loading > 0) {\n      console.debug(\"Bokeh: BokehJS is being loaded, scheduling callback at\", now());\n      return null;\n    }\n    if (js_urls == null || js_urls.length === 0) {\n      run_callbacks();\n      return null;\n    }\n    console.debug(\"Bokeh: BokehJS not loaded, scheduling load and callback at\", now());\n    root._bokeh_is_loading = css_urls.length + js_urls.length;\n\n    function on_load() {\n      root._bokeh_is_loading--;\n      if (root._bokeh_is_loading === 0) {\n        console.debug(\"Bokeh: all BokehJS libraries/stylesheets loaded\");\n        run_callbacks()\n      }\n    }\n\n    function on_error() {\n      console.error(\"failed to load \" + url);\n    }\n\n    for (var i = 0; i < css_urls.length; i++) {\n      var url = css_urls[i];\n      const element = document.createElement(\"link\");\n      element.onload = on_load;\n      element.onerror = on_error;\n      element.rel = \"stylesheet\";\n      element.type = \"text/css\";\n      element.href = url;\n      console.debug(\"Bokeh: injecting link tag for BokehJS stylesheet: \", url);\n      document.body.appendChild(element);\n    }\n\n    const hashes = {\"https://cdn.bokeh.org/bokeh/release/bokeh-2.2.1.min.js\": \"qkRvDQVAIfzsJo40iRBbxt6sttt0hv4lh74DG7OK4MCHv4C5oohXYoHUM5W11uqS\", \"https://cdn.bokeh.org/bokeh/release/bokeh-widgets-2.2.1.min.js\": \"Sb7Mr06a9TNlet/GEBeKaf5xH3eb6AlCzwjtU82wNPyDrnfoiVl26qnvlKjmcAd+\", \"https://cdn.bokeh.org/bokeh/release/bokeh-tables-2.2.1.min.js\": \"HaJ15vgfmcfRtB4c4YBOI4f1MUujukqInOWVqZJZZGK7Q+ivud0OKGSTn/Vm2iso\"};\n\n    for (var i = 0; i < js_urls.length; i++) {\n      var url = js_urls[i];\n      var element = document.createElement('script');\n      element.onload = on_load;\n      element.onerror = on_error;\n      element.async = false;\n      element.src = url;\n      if (url in hashes) {\n        element.crossOrigin = \"anonymous\";\n        element.integrity = \"sha384-\" + hashes[url];\n      }\n      console.debug(\"Bokeh: injecting script tag for BokehJS library: \", url);\n      document.head.appendChild(element);\n    }\n  };\n\n  function inject_raw_css(css) {\n    const element = document.createElement(\"style\");\n    element.appendChild(document.createTextNode(css));\n    document.body.appendChild(element);\n  }\n\n  \n  var js_urls = [\"https://cdn.bokeh.org/bokeh/release/bokeh-2.2.1.min.js\", \"https://cdn.bokeh.org/bokeh/release/bokeh-widgets-2.2.1.min.js\", \"https://cdn.bokeh.org/bokeh/release/bokeh-tables-2.2.1.min.js\"];\n  var css_urls = [];\n  \n\n  var inline_js = [\n    function(Bokeh) {\n      Bokeh.set_log_level(\"info\");\n    },\n    function(Bokeh) {\n    \n    \n    }\n  ];\n\n  function run_inline_js() {\n    \n    if (root.Bokeh !== undefined || force === true) {\n      \n    for (var i = 0; i < inline_js.length; i++) {\n      inline_js[i].call(root, root.Bokeh);\n    }\n    if (force === true) {\n        display_loaded();\n      }} else if (Date.now() < root._bokeh_timeout) {\n      setTimeout(run_inline_js, 100);\n    } else if (!root._bokeh_failed_load) {\n      console.log(\"Bokeh: BokehJS failed to load within specified timeout.\");\n      root._bokeh_failed_load = true;\n    } else if (force !== true) {\n      var cell = $(document.getElementById(\"1519\")).parents('.cell').data().cell;\n      cell.output_area.append_execute_result(NB_LOAD_WARNING)\n    }\n\n  }\n\n  if (root._bokeh_is_loading === 0) {\n    console.debug(\"Bokeh: BokehJS loaded, going straight to plotting\");\n    run_inline_js();\n  } else {\n    load_libs(css_urls, js_urls, function() {\n      console.debug(\"Bokeh: BokehJS plotting callback run at\", now());\n      run_inline_js();\n    });\n  }\n}(window));"
     },
     "metadata": {}
    }
   ],
   "source": [
    "output_notebook()"
   ]
  },
  {
   "cell_type": "code",
   "execution_count": 18,
   "metadata": {},
   "outputs": [
    {
     "output_type": "display_data",
     "data": {
      "text/html": "\n\n\n\n\n\n  <div class=\"bk-root\" id=\"97944c7b-2d22-4f82-8c3d-fe4fb35ec99a\" data-root-id=\"1520\"></div>\n"
     },
     "metadata": {}
    },
    {
     "output_type": "display_data",
     "data": {
      "application/javascript": "(function(root) {\n  function embed_document(root) {\n    \n  var docs_json = {\"110a727b-b8bf-4836-b1ac-cf2ac9518b79\":{\"roots\":{\"references\":[{\"attributes\":{\"below\":[{\"id\":\"1531\"}],\"center\":[{\"id\":\"1534\"},{\"id\":\"1538\"}],\"left\":[{\"id\":\"1535\"}],\"plot_height\":450,\"renderers\":[{\"id\":\"1575\"}],\"title\":{\"id\":\"1521\"},\"toolbar\":{\"id\":\"1557\"},\"x_range\":{\"id\":\"1523\"},\"x_scale\":{\"id\":\"1527\"},\"y_range\":{\"id\":\"1525\"},\"y_scale\":{\"id\":\"1529\"}},\"id\":\"1520\",\"subtype\":\"Figure\",\"type\":\"Plot\"},{\"attributes\":{},\"id\":\"1547\",\"type\":\"ResetTool\"},{\"attributes\":{},\"id\":\"1523\",\"type\":\"DataRange1d\"},{\"attributes\":{\"axis_label\":\"losses\",\"formatter\":{\"id\":\"1613\"},\"ticker\":{\"id\":\"1536\"}},\"id\":\"1535\",\"type\":\"LinearAxis\"},{\"attributes\":{},\"id\":\"1545\",\"type\":\"UndoTool\"},{\"attributes\":{},\"id\":\"1527\",\"type\":\"LinearScale\"},{\"attributes\":{\"axis\":{\"id\":\"1531\"},\"ticker\":null},\"id\":\"1534\",\"type\":\"Grid\"},{\"attributes\":{\"data_source\":{\"id\":\"1572\"},\"glyph\":{\"id\":\"1573\"},\"hover_glyph\":null,\"muted_glyph\":null,\"nonselection_glyph\":{\"id\":\"1574\"},\"selection_glyph\":null,\"view\":{\"id\":\"1576\"}},\"id\":\"1575\",\"type\":\"GlyphRenderer\"},{\"attributes\":{},\"id\":\"1616\",\"type\":\"UnionRenderers\"},{\"attributes\":{\"fill_alpha\":{\"value\":0.1},\"fill_color\":{\"value\":\"#1f77b4\"},\"line_alpha\":{\"value\":0.1},\"line_color\":{\"value\":\"#1f77b4\"},\"x\":{\"field\":\"x\"},\"y\":{\"field\":\"y\"}},\"id\":\"1574\",\"type\":\"Scatter\"},{\"attributes\":{},\"id\":\"1541\",\"type\":\"WheelZoomTool\"},{\"attributes\":{\"callback\":null},\"id\":\"1548\",\"type\":\"TapTool\"},{\"attributes\":{\"bottom_units\":\"screen\",\"fill_alpha\":0.5,\"fill_color\":\"lightgrey\",\"left_units\":\"screen\",\"level\":\"overlay\",\"line_alpha\":1.0,\"line_color\":\"black\",\"line_dash\":[4,4],\"line_width\":2,\"right_units\":\"screen\",\"top_units\":\"screen\"},\"id\":\"1554\",\"type\":\"BoxAnnotation\"},{\"attributes\":{\"text\":\"inductor optimization\"},\"id\":\"1521\",\"type\":\"Title\"},{\"attributes\":{\"source\":{\"id\":\"1572\"}},\"id\":\"1576\",\"type\":\"CDSView\"},{\"attributes\":{\"axis_label\":\"mass\",\"formatter\":{\"id\":\"1611\"},\"ticker\":{\"id\":\"1532\"}},\"id\":\"1531\",\"type\":\"LinearAxis\"},{\"attributes\":{},\"id\":\"1611\",\"type\":\"BasicTickFormatter\"},{\"attributes\":{\"fill_color\":{\"value\":\"#1f77b4\"},\"line_color\":{\"value\":\"#1f77b4\"},\"x\":{\"field\":\"x\"},\"y\":{\"field\":\"y\"}},\"id\":\"1573\",\"type\":\"Scatter\"},{\"attributes\":{\"overlay\":{\"id\":\"1555\"}},\"id\":\"1552\",\"type\":\"LassoSelectTool\"},{\"attributes\":{},\"id\":\"1542\",\"type\":\"ZoomInTool\"},{\"attributes\":{\"fill_alpha\":0.5,\"fill_color\":\"lightgrey\",\"level\":\"overlay\",\"line_alpha\":1.0,\"line_color\":\"black\",\"line_dash\":[4,4],\"line_width\":2,\"xs_units\":\"screen\",\"ys_units\":\"screen\"},\"id\":\"1555\",\"type\":\"PolyAnnotation\"},{\"attributes\":{},\"id\":\"1532\",\"type\":\"BasicTicker\"},{\"attributes\":{\"bottom_units\":\"screen\",\"fill_alpha\":0.5,\"fill_color\":\"lightgrey\",\"left_units\":\"screen\",\"level\":\"overlay\",\"line_alpha\":1.0,\"line_color\":\"black\",\"line_dash\":[4,4],\"line_width\":2,\"right_units\":\"screen\",\"top_units\":\"screen\"},\"id\":\"1553\",\"type\":\"BoxAnnotation\"},{\"attributes\":{\"axis\":{\"id\":\"1535\"},\"dimension\":1,\"ticker\":null},\"id\":\"1538\",\"type\":\"Grid\"},{\"attributes\":{},\"id\":\"1529\",\"type\":\"LinearScale\"},{\"attributes\":{},\"id\":\"1540\",\"type\":\"PanTool\"},{\"attributes\":{\"overlay\":{\"id\":\"1556\"}},\"id\":\"1551\",\"type\":\"PolySelectTool\"},{\"attributes\":{},\"id\":\"1543\",\"type\":\"ZoomOutTool\"},{\"attributes\":{\"overlay\":{\"id\":\"1554\"}},\"id\":\"1544\",\"type\":\"BoxZoomTool\"},{\"attributes\":{},\"id\":\"1525\",\"type\":\"DataRange1d\"},{\"attributes\":{\"callback\":null},\"id\":\"1539\",\"type\":\"HoverTool\"},{\"attributes\":{\"overlay\":{\"id\":\"1553\"}},\"id\":\"1550\",\"type\":\"BoxSelectTool\"},{\"attributes\":{},\"id\":\"1536\",\"type\":\"BasicTicker\"},{\"attributes\":{\"fill_alpha\":0.5,\"fill_color\":\"lightgrey\",\"level\":\"overlay\",\"line_alpha\":1.0,\"line_color\":\"black\",\"line_dash\":[4,4],\"line_width\":2,\"xs_units\":\"screen\",\"ys_units\":\"screen\"},\"id\":\"1556\",\"type\":\"PolyAnnotation\"},{\"attributes\":{\"active_drag\":\"auto\",\"active_inspect\":\"auto\",\"active_multi\":null,\"active_scroll\":\"auto\",\"active_tap\":\"auto\",\"tools\":[{\"id\":\"1539\"},{\"id\":\"1540\"},{\"id\":\"1541\"},{\"id\":\"1542\"},{\"id\":\"1543\"},{\"id\":\"1544\"},{\"id\":\"1545\"},{\"id\":\"1546\"},{\"id\":\"1547\"},{\"id\":\"1548\"},{\"id\":\"1549\"},{\"id\":\"1550\"},{\"id\":\"1551\"},{\"id\":\"1552\"}]},\"id\":\"1557\",\"type\":\"Toolbar\"},{\"attributes\":{},\"id\":\"1615\",\"type\":\"Selection\"},{\"attributes\":{},\"id\":\"1549\",\"type\":\"SaveTool\"},{\"attributes\":{},\"id\":\"1546\",\"type\":\"RedoTool\"},{\"attributes\":{},\"id\":\"1613\",\"type\":\"BasicTickFormatter\"},{\"attributes\":{\"data\":{\"x\":{\"__ndarray__\":\"j1tOtpnO7z+uHfWzrs/lP/S/cgaQ7+k/VKPziL3/6T8SLUeNmhLnP4TaxBVxzOo/krfXv9uo6T+uFHz5C6HoP/VNPB3hjOg/UR7pGroi6T8MUp6VubDoPzJ/cvUjZuc/Rvaun54B5j+CtZLq4GXvPxBWqOy6ZOk/sgotGB6D6T/YW11DBxTmP+aFQ+kuOus/aileRTUh7z/y/Gkvg3vqP/s8zmM+l+c/djCQn44R5z+GlPpfq73qP9cuzL36Ku0/ugTc0nSU7D/3r5KJl5/mP6AIyvdtY+8/d/D1fs6D6z/hwTuFIUftP38c2hCsCu0/Epe8yl+55j9arUx5i/LsPxn0HLQ3kOY/jDqEJmlu7j+Gg7FB4ZzqP6bak2zo3O4/X58TyirM5z8+IZiW/kHsP0B/QBEQnes/Q1aw/HXX6z8S1JcHfcDnP35XRNsw+u4/oiMlOk1H5j+8OaW2OKbsP8MEB/0maeY/DClwp9da5j9KYD9hYHbmP/BEHql4v+w/YbiTMY1E7T+8MMBH6yHuP5tflitcsO0/ziA3JRik6z+6+QyK0x/sP2Fw4e88K+w/TGoVXVUH7z/wRJH+vrbuP7zhcuRwYu4/oAXarL9j6D/AD4jg98HuP3yzLV9yzO0/6jsT3eTV5j88i3xtwUjuP1YlwzkbxOw/FiI2NfyT7j+9Kyg+X83mP2BQiyZuf+o/NMmJx1IJ7j91/bfBTPztP7jgPtEM6uU/jj/nHcDx5T+sFUPnM+DmP4D7SQh+i+4/kmjGu3b96z/5v+Lq9eDtP4yVIeKD8O0/CuqI0+ej6j+clzYMBAnnP+kHNu552Os/Eibhykfu6z9o8acPyLHqP0owunpO9+Y/yqtpkjhn6z88uxmSiFHrP7yQOTEA8OY/peKykj146D+VH+N7Zd7nPw3ZPY7QWuw/Io0mHbh36T+gk8vCZ/flP74sW6rqge0/dg3Oq88A6D87VGE8SnDpP2yxW4wNPOk/Qu6ioWN77T/mfETTc1XsP8ZLrUjxTeg/dVCGBaPV5T9WiBvL7GvrP9I1ACXgtOc/On5h5GKD5z8=\",\"dtype\":\"float64\",\"order\":\"little\",\"shape\":[100]},\"y\":{\"__ndarray__\":\"oVwYHKIC5D9Go83IgejvP8UtBBYli+k/SLR2vO8I6T8T7pVbmgbtP6cvVd7vLug/Rj6bPaXa6T/LUrkktabqP3pLFXERUus/Z+FViyqH6j9BpRRc+pHqP4B0q+PS1+w/sKTWMx467z+ccN/s8ibkP4hkUwZ5Nuo/AERBTQAP6j8KdJRROOfuP7ZHgfl+Deg/6D9P4K1r5D/MtBjK+/7oP4k10yT4jOw/vGyhpu+N7T/TiltYU5LoP61CJEZkJeY/qPap0lOp5j+8thQnSknuP2uS55zGNeQ/zCENYkDQ5z8aKhPzYuflPzKUzAv1PeY/SPGIdukW7j/GdL8BtFnmP1M1h3qkcO4/h//f6hQL5T+w7mL/IdXoP0e/ylENp+Q/KTA7Lttg7D+lG6DEs/XmP0wJmUwOkuc/J/4JzgJ55z+wgOYjMnzsPzifg8domuQ/t0Refpfj7j/vslQhypzmP5WGuTb5pe4/UGgz0u/S7j8eIgGaaYzuPzDAUToAdOY/iYd7cJDu5T/90gi8YUPlP4Mgx+GprOU/RywBzqOK5z/I6Sh3fyrnPydfl3JKDOc/PvPOqHZu5D8O+ffZN9PkP+jeap17OOU/VpJaJAuB6z+5BQug/8nkP5Xm7CG3neU/XJTTLtfk7T8/9j+p8DrlP9K4+VKNXuY/tBJOhVzw5D8SqJY2HgnuPw7ZJXLN++g/VATO2O1O5T9KFkKSBGjlP0BYIfG/sO8/FiMLZSeG7z+e1Mnj0cftP2Yz0YhA9eQ/udOzqio05z/pxLCSIY3lP389FOhsguU/wRcRzfKz6D+mCGdT5pztP//1AHIuXec/GUjMEJZT5z/Zzdj17qnoP/aTVig8se0/dbuyD0Lh5z+dBLYYWvjnPzzFz/zLu+0/P7s3ZzxY6z+lJd+CD0PsP/K2wzur0uY/RdNUox0S6j/AOQ3B8k7vP1bLk+pvt+U/Zo2wPr6f6z9Q3ON5gDTqP2g+uH/AaOo/eq5i7lq65T8lQG3CUNXmPwWFo2/slOs/i1Uv/KG77z9Bvn6E1NbnP5kKn/bzgew/3cwr5ILT7D8=\",\"dtype\":\"float64\",\"order\":\"little\",\"shape\":[100]}},\"selected\":{\"id\":\"1615\"},\"selection_policy\":{\"id\":\"1616\"}},\"id\":\"1572\",\"type\":\"ColumnDataSource\"}],\"root_ids\":[\"1520\"]},\"title\":\"Bokeh Application\",\"version\":\"2.2.1\"}};\n  var render_items = [{\"docid\":\"110a727b-b8bf-4836-b1ac-cf2ac9518b79\",\"root_ids\":[\"1520\"],\"roots\":{\"1520\":\"97944c7b-2d22-4f82-8c3d-fe4fb35ec99a\"}}];\n  root.Bokeh.embed.embed_items_notebook(docs_json, render_items);\n\n  }\n  if (root.Bokeh !== undefined) {\n    embed_document(root);\n  } else {\n    var attempts = 0;\n    var timer = setInterval(function(root) {\n      if (root.Bokeh !== undefined) {\n        clearInterval(timer);\n        embed_document(root);\n      } else {\n        attempts++;\n        if (attempts > 100) {\n          clearInterval(timer);\n          console.log(\"Bokeh: ERROR: Unable to run BokehJS code because BokehJS library is missing\");\n        }\n      }\n    }, 10, root)\n  }\n})(window);",
      "application/vnd.bokehjs_exec.v0+json": ""
     },
     "metadata": {
      "application/vnd.bokehjs_exec.v0+json": {
       "id": "1520"
      }
     }
    }
   ],
   "source": [
    "p = figure(tools=TOOLS, plot_width=600, plot_height=450, title=\"inductor optimization\")\n",
    "p.scatter(x=res.F[:, 0], y=res.F[:, 1])\n",
    "p.xaxis.axis_label = 'mass'\n",
    "p.yaxis.axis_label = 'losses'\n",
    "show(p)"
   ]
  },
  {
   "cell_type": "code",
   "execution_count": 19,
   "metadata": {},
   "outputs": [
    {
     "output_type": "stream",
     "name": "stdout",
     "text": [
      "Design Data\nTurns = 44.15238756705294\nSlot depth (m) = 0.007459397866220247\nSlot width (m) = 0.08476003345723838\nCore width (m) = 0.01747679490756531\nCore length (m) = 0.021650293522015685\nAir gap (m) = 0.00045553880692722037\n \nDesign Metrics\nMass (kg) = 0.8508524471218919\nLoss at rated current (W) = 0.7516474602837124\n \nConstrained Quantities\nInductance (H) = 0.0010173923161577248\nFlux Density at Rated Current (T) = 0.6089879251111259\nCurrent Density Rated Current (A/m**2) = 997611.0749802589\n"
     ]
    }
   ],
   "source": [
    "solutionNr=17 # solution index chosen from pareto curve\n",
    "eui_fit.print_design(res.X[solutionNr], eui_fit.input_design_parameters())"
   ]
  }
 ]
}